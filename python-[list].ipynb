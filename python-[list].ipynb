{
 "cells": [
  {
   "cell_type": "markdown",
   "id": "3da26c32",
   "metadata": {},
   "source": [
    "# LIST"
   ]
  },
  {
   "cell_type": "markdown",
   "id": "0787a14e",
   "metadata": {},
   "source": [
    "List Operations in Python\n",
    "\n",
    "#1 append() The append() method is used to add elements at the end of the list. ...\n",
    "\n",
    "#2 extend() The extend() method is used to add more than one element at the end of the list. ...\n",
    "\n",
    "#3 insert() The insert() method can add an element at a given position in the list. ...\n",
    "\n",
    "#4 remove() ...\n",
    "\n",
    "#5 pop() ...\n",
    "\n",
    "#6 slice. ...\n",
    "\n",
    "#7 reverse() ...\n",
    "\n",
    "#8 len()\n",
    "\n",
    "#9 min() and max()\n",
    "\n",
    "#10 count()\n",
    "\n",
    "#11 concatenate\n",
    "\n",
    "#12 multiply\n",
    "\n",
    "#13 index()\n",
    "\n",
    "#14 sort()\n",
    "\n",
    "#15 clear()"
   ]
  },
  {
   "cell_type": "code",
   "execution_count": 237,
   "id": "98ed0f69",
   "metadata": {},
   "outputs": [
    {
     "name": "stdout",
     "output_type": "stream",
     "text": [
      "['is', 'al', 'pa', 'go', 're', '22']\n"
     ]
    }
   ],
   "source": [
    "a=['is','al','pa','go','re','22']\n",
    "print(a)"
   ]
  },
  {
   "cell_type": "code",
   "execution_count": 4,
   "id": "948be8ab",
   "metadata": {},
   "outputs": [
    {
     "name": "stdout",
     "output_type": "stream",
     "text": [
      "['is', 'al', 'pa', 'go', 're', '22', 'c', 'a', 't']\n"
     ]
    }
   ],
   "source": [
    "a.extend('cat')\n",
    "print(a)"
   ]
  },
  {
   "cell_type": "code",
   "execution_count": 5,
   "id": "e3f9308c",
   "metadata": {},
   "outputs": [
    {
     "name": "stdout",
     "output_type": "stream",
     "text": [
      "['is', 'al', 'pa', 'go', 're', '22', 'c', 'a', 't', 'cat']\n"
     ]
    }
   ],
   "source": [
    "a.append('cat')\n",
    "print(a)"
   ]
  },
  {
   "cell_type": "code",
   "execution_count": 10,
   "id": "a787b7c9",
   "metadata": {},
   "outputs": [
    {
     "name": "stdout",
     "output_type": "stream",
     "text": [
      "['is', 'al', 'pa', 'go', 're', '22', 'a', 't', 'cat']\n"
     ]
    }
   ],
   "source": [
    "a.pop(6) #in pop only index we can give\n",
    "print(a)"
   ]
  },
  {
   "cell_type": "code",
   "execution_count": 238,
   "id": "1ba9bfe6",
   "metadata": {},
   "outputs": [
    {
     "name": "stdout",
     "output_type": "stream",
     "text": [
      "['da', 'is', 'al', 'pa', 'go', 're', '22']\n"
     ]
    }
   ],
   "source": [
    "a.insert(0,'da')\n",
    "print(a)"
   ]
  },
  {
   "cell_type": "code",
   "execution_count": 240,
   "id": "36950e1f",
   "metadata": {},
   "outputs": [
    {
     "name": "stdout",
     "output_type": "stream",
     "text": [
      "9\n"
     ]
    }
   ],
   "source": [
    "a.insert(10,'python')\n",
    "print(len(a))"
   ]
  },
  {
   "cell_type": "code",
   "execution_count": 242,
   "id": "58e76e23",
   "metadata": {},
   "outputs": [
    {
     "data": {
      "text/plain": [
       "7"
      ]
     },
     "execution_count": 242,
     "metadata": {},
     "output_type": "execute_result"
    }
   ],
   "source": [
    "a.index('python')\n",
    "                          ##index"
   ]
  },
  {
   "cell_type": "code",
   "execution_count": 243,
   "id": "29c4fa4c",
   "metadata": {},
   "outputs": [
    {
     "data": {
      "text/plain": [
       "['da', 'is', 'al', 'pa', 'go', 're', '22', 'python', 'python']"
      ]
     },
     "execution_count": 243,
     "metadata": {},
     "output_type": "execute_result"
    }
   ],
   "source": [
    "a"
   ]
  },
  {
   "cell_type": "code",
   "execution_count": 247,
   "id": "5e8ec957",
   "metadata": {},
   "outputs": [
    {
     "data": {
      "text/plain": [
       "['al', 'pa', 'go']"
      ]
     },
     "execution_count": 247,
     "metadata": {},
     "output_type": "execute_result"
    }
   ],
   "source": [
    "a[0:6:-1]"
   ]
  },
  {
   "cell_type": "code",
   "execution_count": 254,
   "id": "49febad8",
   "metadata": {},
   "outputs": [
    {
     "data": {
      "text/plain": [
       "['python', 'python', '22']"
      ]
     },
     "execution_count": 254,
     "metadata": {},
     "output_type": "execute_result"
    }
   ],
   "source": [
    "a[-1:5:-1]    #slicing "
   ]
  },
  {
   "cell_type": "code",
   "execution_count": 256,
   "id": "ad3fe1be",
   "metadata": {},
   "outputs": [
    {
     "name": "stdout",
     "output_type": "stream",
     "text": [
      "[12, 23]\n"
     ]
    }
   ],
   "source": [
    "abc=[12,23,56,677,34,56,677,78,7897,893,34,123,34]\n",
    "ac=slice(0,2)\n",
    "print(abc[ac])    #slicing "
   ]
  },
  {
   "cell_type": "code",
   "execution_count": 257,
   "id": "94ffa8b3",
   "metadata": {},
   "outputs": [
    {
     "name": "stdout",
     "output_type": "stream",
     "text": [
      "3\n"
     ]
    }
   ],
   "source": [
    "abc=[12,23,56,677,34,56,677,78,7897,893,34,123,34]\n",
    "print(abc.count(34))"
   ]
  },
  {
   "cell_type": "code",
   "execution_count": 258,
   "id": "20761c2c",
   "metadata": {},
   "outputs": [
    {
     "name": "stdout",
     "output_type": "stream",
     "text": [
      "[]\n"
     ]
    }
   ],
   "source": [
    "abc.clear()\n",
    "print(abc)    #clear"
   ]
  },
  {
   "cell_type": "code",
   "execution_count": 259,
   "id": "f7076b04",
   "metadata": {},
   "outputs": [
    {
     "data": {
      "text/plain": [
       "[]"
      ]
     },
     "execution_count": 259,
     "metadata": {},
     "output_type": "execute_result"
    }
   ],
   "source": [
    "abc   #clear"
   ]
  },
  {
   "cell_type": "code",
   "execution_count": 260,
   "id": "19c79334",
   "metadata": {},
   "outputs": [
    {
     "name": "stdout",
     "output_type": "stream",
     "text": [
      "[12, 23, 34, 34, 34, 56, 56, 78, 123, 677, 677, 893, 7897]\n"
     ]
    }
   ],
   "source": [
    "abcd=[12,23,56,677,34,56,677,78,7897,893,34,123,34] #sort\n",
    "abcd.sort()\n",
    "print(abcd)"
   ]
  },
  {
   "cell_type": "code",
   "execution_count": 11,
   "id": "88e84e67",
   "metadata": {},
   "outputs": [
    {
     "name": "stdout",
     "output_type": "stream",
     "text": [
      "['is', 'al', 'pa', 'go', 're', '22', 't', 'cat']\n"
     ]
    }
   ],
   "source": [
    "a.pop(6) \n",
    "print(a)"
   ]
  },
  {
   "cell_type": "code",
   "execution_count": 12,
   "id": "e1138709",
   "metadata": {},
   "outputs": [
    {
     "name": "stdout",
     "output_type": "stream",
     "text": [
      "['is', 'al', 'pa', 'go', 're', '22', 'cat']\n"
     ]
    }
   ],
   "source": [
    "a.pop(6) \n",
    "print(a)"
   ]
  },
  {
   "cell_type": "code",
   "execution_count": 13,
   "id": "c0b64f51",
   "metadata": {},
   "outputs": [
    {
     "name": "stdout",
     "output_type": "stream",
     "text": [
      "['is', 'al', 'pa', 'go', 're', '22']\n"
     ]
    }
   ],
   "source": [
    "a.remove('cat')  #in remove we can use directly with string\n",
    "print(a)"
   ]
  },
  {
   "cell_type": "code",
   "execution_count": 14,
   "id": "cc4b16d4",
   "metadata": {},
   "outputs": [
    {
     "name": "stdout",
     "output_type": "stream",
     "text": [
      "['is', 'al', 'go', 're', '22']\n"
     ]
    }
   ],
   "source": [
    "a.remove('pa') \n",
    "print(a)"
   ]
  },
  {
   "cell_type": "code",
   "execution_count": 15,
   "id": "19aa2f1b",
   "metadata": {},
   "outputs": [
    {
     "name": "stdout",
     "output_type": "stream",
     "text": [
      "['22', 're', 'go', 'al', 'is']\n"
     ]
    }
   ],
   "source": [
    "a=a[::-1]\n",
    "print(a)"
   ]
  },
  {
   "cell_type": "code",
   "execution_count": 16,
   "id": "4872690d",
   "metadata": {},
   "outputs": [
    {
     "name": "stdout",
     "output_type": "stream",
     "text": [
      "['is', 'al', 'go', 're', '22']\n"
     ]
    }
   ],
   "source": [
    "a.reverse()  #inbuilt function for reverse\n",
    "print(a)"
   ]
  },
  {
   "cell_type": "code",
   "execution_count": 17,
   "id": "91f10812",
   "metadata": {},
   "outputs": [
    {
     "name": "stdout",
     "output_type": "stream",
     "text": [
      "['22', 'al', 'go', 'is', 're']\n"
     ]
    }
   ],
   "source": [
    "a.sort()\n",
    "print(a)"
   ]
  },
  {
   "cell_type": "code",
   "execution_count": 18,
   "id": "7d4b2445",
   "metadata": {},
   "outputs": [
    {
     "name": "stdout",
     "output_type": "stream",
     "text": [
      "['re', 'is', 'go', 'al', '22']\n"
     ]
    }
   ],
   "source": [
    "a.sort(reverse=True)\n",
    "print(a)"
   ]
  },
  {
   "cell_type": "code",
   "execution_count": 24,
   "id": "fa156a02",
   "metadata": {},
   "outputs": [
    {
     "name": "stdout",
     "output_type": "stream",
     "text": [
      "['re', 'is', 'go', 'al', '22', ['cheetah', 'tiger', 'lion', 'dog', 'elephant', 'turtle', 'cat', 'deer', 'zebra', 'leopard'], ['cheetah', 'tiger', 'lion', 'dog', 'elephant', 'turtle', 'cat', 'deer', 'zebra', 'leopard'], ['cheetah', 'tiger', 'lion', 'dog', 'elephant', 'turtle', 'cat', 'deer', 'zebra', 'leopard'], 'cheetah', 'tiger', 'lion', 'dog', 'elephant', 'turtle', 'cat', 'deer', 'zebra', 'leopard']\n"
     ]
    }
   ],
   "source": [
    "#joining two list=(+,append,extend)\n",
    "b=['cheetah','tiger','lion','dog','elephant','turtle','cat','deer','zebra','leopard']\n",
    "print(a+b)"
   ]
  },
  {
   "cell_type": "code",
   "execution_count": 27,
   "id": "3523a61e",
   "metadata": {},
   "outputs": [
    {
     "name": "stdout",
     "output_type": "stream",
     "text": [
      "['is', 'al', 'pa', 'go', 're', '22', ['cheetah', 'tiger', 'lion', 'dog', 'elephant', 'turtle', 'cat', 'deer', 'zebra', 'leopard']]\n"
     ]
    }
   ],
   "source": [
    "a.append(b)\n",
    "print(a)"
   ]
  },
  {
   "cell_type": "code",
   "execution_count": 31,
   "id": "265624c3",
   "metadata": {},
   "outputs": [
    {
     "name": "stdout",
     "output_type": "stream",
     "text": [
      "['is', 'al', 'pa', 'go', 're', '22', 'cheetah', 'tiger', 'lion', 'dog', 'elephant', 'turtle', 'cat', 'deer', 'zebra', 'leopard']\n"
     ]
    }
   ],
   "source": [
    "\n",
    "for i in b:\n",
    "    a.append(i)\n",
    "print(a)"
   ]
  },
  {
   "cell_type": "code",
   "execution_count": 34,
   "id": "9b524e8b",
   "metadata": {},
   "outputs": [
    {
     "name": "stdout",
     "output_type": "stream",
     "text": [
      "['is', 'al', 'pa', 'go', 're', '22', 'cheetah', 'tiger', 'lion', 'dog', 'elephant', 'turtle', 'cat', 'deer', 'zebra', 'leopard']\n"
     ]
    }
   ],
   "source": [
    "a.extend(b)\n",
    "print(a)"
   ]
  },
  {
   "cell_type": "code",
   "execution_count": 35,
   "id": "363f73b5",
   "metadata": {},
   "outputs": [
    {
     "name": "stdout",
     "output_type": "stream",
     "text": [
      "cheetah\n",
      "cat\n"
     ]
    }
   ],
   "source": [
    "for i in a:\n",
    "    if i.startswith('c'):\n",
    "        print(i)"
   ]
  },
  {
   "cell_type": "code",
   "execution_count": 36,
   "id": "ee8a58b1",
   "metadata": {},
   "outputs": [
    {
     "name": "stdout",
     "output_type": "stream",
     "text": [
      "22\n"
     ]
    }
   ],
   "source": [
    "for i in a:\n",
    "    if i.isnumeric():\n",
    "        print(i)"
   ]
  },
  {
   "cell_type": "code",
   "execution_count": 37,
   "id": "b95d0521",
   "metadata": {},
   "outputs": [
    {
     "name": "stdout",
     "output_type": "stream",
     "text": [
      "['is', 'al', 'pa', 'go', 're', '22', 'cheetah', 'tiger', 'lion', 'dog', 'elephant', 'turtle', 'cat', 'deer', 'zebra', 'leopard', 'm3']\n"
     ]
    }
   ],
   "source": [
    "a.append('m3')\n",
    "print(a)"
   ]
  },
  {
   "cell_type": "code",
   "execution_count": 42,
   "id": "b953ca84",
   "metadata": {},
   "outputs": [],
   "source": [
    "for i in a: #m3\n",
    "    if i.isdigit() and i.isalpha():\n",
    "        print(i)  ##pending"
   ]
  },
  {
   "cell_type": "code",
   "execution_count": 50,
   "id": "e7bb57ee",
   "metadata": {},
   "outputs": [
    {
     "name": "stdout",
     "output_type": "stream",
     "text": [
      "['ismail', 'samoon', 'shafath']\n"
     ]
    }
   ],
   "source": [
    "d=['ismail','samoon','shafath']\n",
    "print(d)\n"
   ]
  },
  {
   "cell_type": "code",
   "execution_count": 58,
   "id": "cd24f197",
   "metadata": {},
   "outputs": [
    {
     "name": "stdout",
     "output_type": "stream",
     "text": [
      "['ismail', 'samoon', 'shafath']\n"
     ]
    }
   ],
   "source": [
    "print([*d])"
   ]
  },
  {
   "cell_type": "code",
   "execution_count": 69,
   "id": "0ca2e22f",
   "metadata": {},
   "outputs": [
    {
     "name": "stdout",
     "output_type": "stream",
     "text": [
      "[['i', 's', 'm', 'a', 'i', 'l'], ['s', 'a', 'm', 'o', 'o', 'n'], ['s', 'h', 'a', 'f', 'a', 't', 'h']]\n"
     ]
    }
   ],
   "source": [
    "f=[]    ####pending\n",
    "for i in range(len(d)):\n",
    "    f.append(list(d[i]))\n",
    "print(f)\n"
   ]
  },
  {
   "cell_type": "code",
   "execution_count": 75,
   "id": "aac62941",
   "metadata": {},
   "outputs": [
    {
     "name": "stdout",
     "output_type": "stream",
     "text": [
      "15\n"
     ]
    }
   ],
   "source": [
    "x=(lambda x:x+10)\n",
    "print(x(5))"
   ]
  },
  {
   "cell_type": "code",
   "execution_count": 85,
   "id": "57d4e437",
   "metadata": {},
   "outputs": [
    {
     "name": "stdout",
     "output_type": "stream",
     "text": [
      "20\n"
     ]
    }
   ],
   "source": [
    "\n",
    "o=(lambda x,y,z,d:(x+y)*z-d)\n",
    "print(o(5,6,2,2))"
   ]
  },
  {
   "cell_type": "code",
   "execution_count": 87,
   "id": "7602ddc9",
   "metadata": {},
   "outputs": [
    {
     "name": "stdout",
     "output_type": "stream",
     "text": [
      "2.0\n"
     ]
    }
   ],
   "source": [
    "o=(lambda x,y,z,d,t:((x+y)*z-d)/t)\n",
    "print(o(5,6,2,2,10))"
   ]
  },
  {
   "cell_type": "code",
   "execution_count": 89,
   "id": "8b8cc3aa",
   "metadata": {},
   "outputs": [
    {
     "data": {
      "text/plain": [
       "['cheetah',\n",
       " 'tiger',\n",
       " 'lion',\n",
       " 'dog',\n",
       " 'elephant',\n",
       " 'turtle',\n",
       " 'cat',\n",
       " 'deer',\n",
       " 'zebra',\n",
       " 'leopard']"
      ]
     },
     "execution_count": 89,
     "metadata": {},
     "output_type": "execute_result"
    }
   ],
   "source": [
    "b"
   ]
  },
  {
   "cell_type": "code",
   "execution_count": 91,
   "id": "ebd6d594",
   "metadata": {},
   "outputs": [
    {
     "name": "stdout",
     "output_type": "stream",
     "text": [
      "['cheetah', 'cat']\n"
     ]
    }
   ],
   "source": [
    "a1=filter(lambda x:x.startswith('c'),b)\n",
    "print(list(a1))"
   ]
  },
  {
   "cell_type": "code",
   "execution_count": 93,
   "id": "05e4d4e8",
   "metadata": {},
   "outputs": [
    {
     "name": "stdout",
     "output_type": "stream",
     "text": [
      "[35, 5, 545]\n"
     ]
    }
   ],
   "source": [
    "b1=[1,2,35,667,32,123,454,563,231,5,545]\n",
    "b1=filter(lambda x:x%5==0,b1)\n",
    "print(list(b1))"
   ]
  },
  {
   "cell_type": "code",
   "execution_count": 98,
   "id": "8a1df300",
   "metadata": {},
   "outputs": [
    {
     "name": "stdout",
     "output_type": "stream",
     "text": [
      "[5, 10, 175, 3335, 160, 615, 2270, 2815, 1155, 25, 2725]\n"
     ]
    }
   ],
   "source": [
    "b21=[1,2,35,667,32,123,454,563,231,5,545]\n",
    "b21=map(lambda x:x*5,b21)\n",
    "print(list(b21))"
   ]
  },
  {
   "cell_type": "code",
   "execution_count": 116,
   "id": "355ad4bd",
   "metadata": {},
   "outputs": [
    {
     "ename": "TypeError",
     "evalue": "'tuple' object is not callable",
     "output_type": "error",
     "traceback": [
      "\u001b[1;31m---------------------------------------------------------------------------\u001b[0m",
      "\u001b[1;31mTypeError\u001b[0m                                 Traceback (most recent call last)",
      "\u001b[1;32m~\\AppData\\Local\\Temp/ipykernel_24712/1050213894.py\u001b[0m in \u001b[0;36m<module>\u001b[1;34m\u001b[0m\n\u001b[0;32m      1\u001b[0m \u001b[1;31m#c1='welcome to python'\u001b[0m\u001b[1;33m\u001b[0m\u001b[1;33m\u001b[0m\u001b[0m\n\u001b[0;32m      2\u001b[0m \u001b[0mc1\u001b[0m\u001b[1;33m=\u001b[0m\u001b[1;33m(\u001b[0m\u001b[1;32mlambda\u001b[0m \u001b[0mx\u001b[0m\u001b[1;33m:\u001b[0m\u001b[0mx\u001b[0m\u001b[1;33m.\u001b[0m\u001b[0mupper\u001b[0m\u001b[1;33m(\u001b[0m\u001b[1;33m)\u001b[0m\u001b[1;33m,\u001b[0m\u001b[0mc1\u001b[0m\u001b[1;33m)\u001b[0m\u001b[1;33m\u001b[0m\u001b[1;33m\u001b[0m\u001b[0m\n\u001b[1;32m----> 3\u001b[1;33m \u001b[0mprint\u001b[0m\u001b[1;33m(\u001b[0m\u001b[0mc1\u001b[0m\u001b[1;33m(\u001b[0m\u001b[1;34m'welcome to python'\u001b[0m\u001b[1;33m)\u001b[0m\u001b[1;33m)\u001b[0m\u001b[1;33m\u001b[0m\u001b[1;33m\u001b[0m\u001b[0m\n\u001b[0m",
      "\u001b[1;31mTypeError\u001b[0m: 'tuple' object is not callable"
     ]
    }
   ],
   "source": [
    "#c1='welcome to python'         #####pending\n",
    "c1=(lambda x:x.upper(),c1)\n",
    "print(c1('welcome to python'))"
   ]
  },
  {
   "cell_type": "code",
   "execution_count": null,
   "id": "6a6daa49",
   "metadata": {},
   "outputs": [],
   "source": [
    "##Reduce"
   ]
  },
  {
   "cell_type": "code",
   "execution_count": 119,
   "id": "5d28ae0c",
   "metadata": {},
   "outputs": [],
   "source": [
    "import functools"
   ]
  },
  {
   "cell_type": "code",
   "execution_count": 122,
   "id": "438cda2d",
   "metadata": {},
   "outputs": [
    {
     "name": "stdout",
     "output_type": "stream",
     "text": [
      "349\n"
     ]
    }
   ],
   "source": [
    "num1=[12,34,45,67,23,45,56,67]\n",
    "print(functools.reduce(lambda x,y:x+y,num1))"
   ]
  },
  {
   "cell_type": "code",
   "execution_count": 124,
   "id": "29d54eb5",
   "metadata": {},
   "outputs": [
    {
     "name": "stdout",
     "output_type": "stream",
     "text": [
      "12\n"
     ]
    }
   ],
   "source": [
    "num2=[12,34,45,99,23,45,56,67,91]\n",
    "print(functools.reduce(lambda x,y:x if x>y else y,num2))"
   ]
  },
  {
   "cell_type": "code",
   "execution_count": 126,
   "id": "dfb45863",
   "metadata": {},
   "outputs": [
    {
     "name": "stdout",
     "output_type": "stream",
     "text": [
      "99\n"
     ]
    }
   ],
   "source": [
    "num2=[12,34,45,99,23,45,56,67,91]\n",
    "print(functools.reduce(lambda x,y:x if x>y else y,num2))"
   ]
  },
  {
   "cell_type": "code",
   "execution_count": 137,
   "id": "2b57cdff",
   "metadata": {},
   "outputs": [
    {
     "name": "stdout",
     "output_type": "stream",
     "text": [
      "ismailsamoonshafath\n"
     ]
    }
   ],
   "source": [
    "d1=['ismail','samoon','shafath']\n",
    "print(functools.reduce(lambda x,y:x + y,d1))"
   ]
  },
  {
   "cell_type": "code",
   "execution_count": null,
   "id": "edafa3d8",
   "metadata": {},
   "outputs": [],
   "source": [
    "##Accumulate"
   ]
  },
  {
   "cell_type": "code",
   "execution_count": 139,
   "id": "b532c523",
   "metadata": {},
   "outputs": [],
   "source": [
    "import itertools"
   ]
  },
  {
   "cell_type": "code",
   "execution_count": 140,
   "id": "d4dfa0d1",
   "metadata": {},
   "outputs": [],
   "source": [
    "import operator"
   ]
  },
  {
   "cell_type": "code",
   "execution_count": 153,
   "id": "31708005",
   "metadata": {},
   "outputs": [
    {
     "name": "stdout",
     "output_type": "stream",
     "text": [
      "max of list 5\n",
      "max of list 7\n",
      "max of list 7\n",
      "max of list 7\n",
      "max of list 7\n",
      "max of list 7\n",
      "max of list 9\n",
      "max of list 9\n",
      "max of list 9\n"
     ]
    }
   ],
   "source": [
    "list11=[5,7,3,4,3,6,9,2,1]\n",
    "result=itertools.accumulate(list11,max)\n",
    "for i in result:\n",
    "    print('max of list',i)"
   ]
  },
  {
   "cell_type": "code",
   "execution_count": null,
   "id": "a08c4a66",
   "metadata": {},
   "outputs": [],
   "source": [
    "#Recursive function"
   ]
  },
  {
   "cell_type": "code",
   "execution_count": null,
   "id": "094846e4",
   "metadata": {},
   "outputs": [],
   "source": [
    "#fibonacci series\n",
    "0,1,1,2,3,5,8,13,21,34"
   ]
  },
  {
   "cell_type": "code",
   "execution_count": 162,
   "id": "175bd274",
   "metadata": {},
   "outputs": [],
   "source": [
    "def funct(n):\n",
    "    x=0\n",
    "    y=1\n",
    "    z=0\n",
    "    while n>1:\n",
    "        print(z)\n",
    "        x=y\n",
    "        y=z\n",
    "        z=x+y\n",
    "        n=n-1        "
   ]
  },
  {
   "cell_type": "code",
   "execution_count": 163,
   "id": "70db8f51",
   "metadata": {},
   "outputs": [
    {
     "name": "stdout",
     "output_type": "stream",
     "text": [
      "0\n",
      "1\n",
      "1\n",
      "2\n",
      "3\n",
      "5\n",
      "8\n",
      "13\n",
      "21\n",
      "34\n"
     ]
    }
   ],
   "source": [
    "funct(11)"
   ]
  },
  {
   "cell_type": "code",
   "execution_count": 165,
   "id": "d9054f03",
   "metadata": {},
   "outputs": [
    {
     "data": {
      "text/plain": [
       "[1, 2, 3, 4, [5, 6, [7, 8, [9, [10, 11, 12]]]]]"
      ]
     },
     "execution_count": 165,
     "metadata": {},
     "output_type": "execute_result"
    }
   ],
   "source": [
    "numbers=[[1],[2,3],[4,[5,6,[7,8,[9,[10,11,12]]]]]]\n",
    "\n",
    "from itertools import chain\n",
    "list(chain.from_iterable(numbers))\n"
   ]
  },
  {
   "cell_type": "code",
   "execution_count": 166,
   "id": "eb9878fa",
   "metadata": {},
   "outputs": [
    {
     "data": {
      "text/plain": [
       "['i',\n",
       " 's',\n",
       " 'm',\n",
       " 'a',\n",
       " 'i',\n",
       " 'l',\n",
       " 's',\n",
       " 'a',\n",
       " 'm',\n",
       " 'o',\n",
       " 'o',\n",
       " 'n',\n",
       " 's',\n",
       " 'h',\n",
       " 'a',\n",
       " 'f',\n",
       " 'a',\n",
       " 't',\n",
       " 'h']"
      ]
     },
     "execution_count": 166,
     "metadata": {},
     "output_type": "execute_result"
    }
   ],
   "source": [
    "apha=[['i', 's', 'm', 'a', 'i', 'l'], ['s', 'a', 'm', 'o', 'o', 'n'], \n",
    " ['s', 'h', 'a', 'f', 'a', 't', 'h']]\n",
    "\n",
    "from itertools import chain\n",
    "list(chain.from_iterable(apha))"
   ]
  },
  {
   "cell_type": "code",
   "execution_count": 170,
   "id": "c4856ab9",
   "metadata": {},
   "outputs": [
    {
     "data": {
      "text/plain": [
       "1"
      ]
     },
     "execution_count": 170,
     "metadata": {},
     "output_type": "execute_result"
    }
   ],
   "source": [
    "def1=min([5,7,3,4,3,6,9,2,1])\n",
    "def1"
   ]
  },
  {
   "cell_type": "code",
   "execution_count": 177,
   "id": "fa649be2",
   "metadata": {},
   "outputs": [
    {
     "name": "stdout",
     "output_type": "stream",
     "text": [
      "[1, 2, 3, 4, 5, 6, 7, 8, 9, 10, 11, 12, 13]\n"
     ]
    }
   ],
   "source": [
    "lis1=[1,3,5,7,9,11,13]\n",
    "lis2=[2,4,6,8,10,12]\n",
    "print(sorted(lis1+lis2))"
   ]
  },
  {
   "cell_type": "code",
   "execution_count": 180,
   "id": "ad4dd5b8",
   "metadata": {},
   "outputs": [],
   "source": [
    "import time"
   ]
  },
  {
   "cell_type": "code",
   "execution_count": 181,
   "id": "1fb01d59",
   "metadata": {},
   "outputs": [
    {
     "data": {
      "text/plain": [
       "1663443955.442866"
      ]
     },
     "execution_count": 181,
     "metadata": {},
     "output_type": "execute_result"
    }
   ],
   "source": [
    "v=time.time()\n",
    "v"
   ]
  },
  {
   "cell_type": "code",
   "execution_count": 213,
   "id": "cba69e40",
   "metadata": {},
   "outputs": [
    {
     "name": "stdout",
     "output_type": "stream",
     "text": [
      "[1, 2, 3, 4, 5, 6, 8, 9, 7]\n"
     ]
    }
   ],
   "source": [
    "#Combining list,tuple and Dictionary into one list or tuple or set\n",
    "A=[1,2,3]\n",
    "B=(4,5,6)\n",
    "C={7,8,9}\n",
    "L=[*A,*B,*C]\n",
    "print(L)"
   ]
  },
  {
   "cell_type": "code",
   "execution_count": 195,
   "id": "598141af",
   "metadata": {},
   "outputs": [
    {
     "name": "stdout",
     "output_type": "stream",
     "text": [
      "(50, 'Eighty', 9)\n"
     ]
    }
   ],
   "source": [
    "my_list = [50, \"Twenty\", 110, \"Fifty\", \"Ten\", 20, 10, 80, \"Eighty\"]\n",
    "\n",
    "my_tuple = (my_list[0], my_list[len(my_list) - 1], len(my_list))\n",
    "print(my_tuple)"
   ]
  },
  {
   "cell_type": "code",
   "execution_count": 198,
   "id": "60216534",
   "metadata": {},
   "outputs": [
    {
     "name": "stdout",
     "output_type": "stream",
     "text": [
      "(50, 'Eighty', 9)\n"
     ]
    }
   ],
   "source": [
    "#printing list to tupple (50, 'Eighty', 9) as per required output\n",
    "my_list = [50, \"Twenty\", 110, \"Fifty\", \"Ten\", 20, 10, 80, \"Eighty\"]\n",
    "my_t=(my_list[0],my_list[len(my_list)-1],len(my_list))\n",
    "print(my_t)"
   ]
  },
  {
   "cell_type": "code",
   "execution_count": 199,
   "id": "8893f2d8",
   "metadata": {},
   "outputs": [
    {
     "name": "stdout",
     "output_type": "stream",
     "text": [
      "[ 2  4  6  8 10]\n"
     ]
    }
   ],
   "source": [
    "#How would you convert a list to an array?\n",
    "import numpy as np\n",
    "my_list = [2,4,6,8,10]\n",
    "my_array=np.array(my_list)\n",
    "print(my_array)\n",
    "\n"
   ]
  },
  {
   "cell_type": "code",
   "execution_count": 200,
   "id": "4e6e0d2a",
   "metadata": {},
   "outputs": [
    {
     "name": "stdout",
     "output_type": "stream",
     "text": [
      "{122: 'alex', 233: 'bob', 353: 'can', 456: 'don'}\n"
     ]
    }
   ],
   "source": [
    "rollNumbers =[122,233,353,456]\n",
    "names = ['alex','bob','can', 'don'] \n",
    "NewDictionary={ i:j for (i,j) in zip (rollNumbers,names)}\n",
    "print(NewDictionary)"
   ]
  },
  {
   "cell_type": "code",
   "execution_count": 209,
   "id": "6eb58412",
   "metadata": {},
   "outputs": [
    {
     "name": "stdout",
     "output_type": "stream",
     "text": [
      "Key exists\n"
     ]
    }
   ],
   "source": [
    "Fruits = {'a': \"Apple\", 'b':\"Banana\", 'c':\"Carrot\"}\n",
    "key_to_lookup = 'a'\n",
    "if key_to_lookup in Fruits:\n",
    "    print (\"Key exists\")\n",
    "else:\n",
    "    print (\"Key does not exist\")"
   ]
  },
  {
   "cell_type": "code",
   "execution_count": 210,
   "id": "27827c94",
   "metadata": {},
   "outputs": [
    {
     "name": "stdout",
     "output_type": "stream",
     "text": [
      "Sorted by key:  [('1', 'apple'), ('2', 'strawberry'), ('3', 'orange')]\n",
      "Sorted by value:  [('1', 'apple'), ('3', 'orange'), ('2', 'strawberry')]\n"
     ]
    }
   ],
   "source": [
    "\n",
    "\n",
    "dict = {}\n",
    "dict['1'] = 'apple'\n",
    "dict['3'] = 'orange'\n",
    "dict['2'] = 'strawberry'\n",
    "\n",
    "lst = dict.items()\n",
    "\n",
    "# Sorted by key\n",
    "print(\"Sorted by key: \", sorted(lst, key = lambda x : x[0]))\n",
    "\n",
    "#Sorted by value\n",
    "print(\"Sorted by value: \", sorted(lst, key = lambda x : x[1]))"
   ]
  },
  {
   "cell_type": "code",
   "execution_count": 211,
   "id": "03cda894",
   "metadata": {},
   "outputs": [
    {
     "name": "stdout",
     "output_type": "stream",
     "text": [
      "Sorted by key:  [('1', 'apple'), ('2', 'strawberry'), ('3', 'orange')]\n",
      "Sorted by value:  [('1', 'apple'), ('3', 'orange'), ('2', 'strawberry')]\n"
     ]
    }
   ],
   "source": [
    "dict = {}\n",
    "dict['1'] = 'apple'\n",
    "dict['3'] = 'orange'\n",
    "dict['2'] = 'strawberry'\n",
    "\n",
    "lst = dict.items()\n",
    "\n",
    "# Sorted by key\n",
    "print(\"Sorted by key: \", sorted(lst, key = lambda x : x[0]))\n",
    "\n",
    "#Sorted by value\n",
    "print(\"Sorted by value: \", sorted(lst, key = lambda x : x[1]))"
   ]
  },
  {
   "cell_type": "code",
   "execution_count": 212,
   "id": "ce5b2166",
   "metadata": {},
   "outputs": [
    {
     "name": "stdout",
     "output_type": "stream",
     "text": [
      "True\n",
      "False\n"
     ]
    }
   ],
   "source": [
    "one_truth = [True, False, False]\n",
    "three_lies = [0, '', None]\n",
    "\n",
    "print(any(one_truth))\n",
    "\n",
    "print(any(three_lies))"
   ]
  },
  {
   "cell_type": "code",
   "execution_count": 236,
   "id": "16ed2155",
   "metadata": {},
   "outputs": [
    {
     "name": "stdout",
     "output_type": "stream",
     "text": [
      "['SALMAN', 'SADIYA', 'SALIK', 'SAMOON']\n"
     ]
    },
    {
     "ename": "TypeError",
     "evalue": "startswith first arg must be str or a tuple of str, not list",
     "output_type": "error",
     "traceback": [
      "\u001b[1;31m---------------------------------------------------------------------------\u001b[0m",
      "\u001b[1;31mTypeError\u001b[0m                                 Traceback (most recent call last)",
      "\u001b[1;32m~\\AppData\\Local\\Temp/ipykernel_24712/4220125195.py\u001b[0m in \u001b[0;36m<module>\u001b[1;34m\u001b[0m\n\u001b[0;32m      5\u001b[0m \u001b[1;33m\u001b[0m\u001b[0m\n\u001b[0;32m      6\u001b[0m \u001b[0mx\u001b[0m\u001b[1;33m=\u001b[0m\u001b[0mfilter\u001b[0m\u001b[1;33m(\u001b[0m\u001b[1;32mlambda\u001b[0m \u001b[0mx\u001b[0m\u001b[1;33m:\u001b[0m \u001b[0mx\u001b[0m\u001b[1;33m.\u001b[0m\u001b[0mstartswith\u001b[0m\u001b[1;33m(\u001b[0m\u001b[1;33m[\u001b[0m\u001b[1;34m'o'\u001b[0m\u001b[1;33m]\u001b[0m\u001b[1;33m)\u001b[0m\u001b[1;33m,\u001b[0m\u001b[0my\u001b[0m\u001b[1;33m)\u001b[0m\u001b[1;33m\u001b[0m\u001b[1;33m\u001b[0m\u001b[0m\n\u001b[1;32m----> 7\u001b[1;33m \u001b[0mprint\u001b[0m\u001b[1;33m(\u001b[0m\u001b[0mlist\u001b[0m\u001b[1;33m(\u001b[0m\u001b[0mx\u001b[0m\u001b[1;33m)\u001b[0m\u001b[1;33m)\u001b[0m\u001b[1;33m\u001b[0m\u001b[1;33m\u001b[0m\u001b[0m\n\u001b[0m\u001b[0;32m      8\u001b[0m \u001b[1;33m\u001b[0m\u001b[0m\n\u001b[0;32m      9\u001b[0m \u001b[1;31m#pending\u001b[0m\u001b[1;33m\u001b[0m\u001b[1;33m\u001b[0m\u001b[0m\n",
      "\u001b[1;32m~\\AppData\\Local\\Temp/ipykernel_24712/4220125195.py\u001b[0m in \u001b[0;36m<lambda>\u001b[1;34m(x)\u001b[0m\n\u001b[0;32m      4\u001b[0m \u001b[0mprint\u001b[0m\u001b[1;33m(\u001b[0m\u001b[0my\u001b[0m\u001b[1;33m)\u001b[0m\u001b[1;33m\u001b[0m\u001b[1;33m\u001b[0m\u001b[0m\n\u001b[0;32m      5\u001b[0m \u001b[1;33m\u001b[0m\u001b[0m\n\u001b[1;32m----> 6\u001b[1;33m \u001b[0mx\u001b[0m\u001b[1;33m=\u001b[0m\u001b[0mfilter\u001b[0m\u001b[1;33m(\u001b[0m\u001b[1;32mlambda\u001b[0m \u001b[0mx\u001b[0m\u001b[1;33m:\u001b[0m \u001b[0mx\u001b[0m\u001b[1;33m.\u001b[0m\u001b[0mstartswith\u001b[0m\u001b[1;33m(\u001b[0m\u001b[1;33m[\u001b[0m\u001b[1;34m'o'\u001b[0m\u001b[1;33m]\u001b[0m\u001b[1;33m)\u001b[0m\u001b[1;33m,\u001b[0m\u001b[0my\u001b[0m\u001b[1;33m)\u001b[0m\u001b[1;33m\u001b[0m\u001b[1;33m\u001b[0m\u001b[0m\n\u001b[0m\u001b[0;32m      7\u001b[0m \u001b[0mprint\u001b[0m\u001b[1;33m(\u001b[0m\u001b[0mlist\u001b[0m\u001b[1;33m(\u001b[0m\u001b[0mx\u001b[0m\u001b[1;33m)\u001b[0m\u001b[1;33m)\u001b[0m\u001b[1;33m\u001b[0m\u001b[1;33m\u001b[0m\u001b[0m\n\u001b[0;32m      8\u001b[0m \u001b[1;33m\u001b[0m\u001b[0m\n",
      "\u001b[1;31mTypeError\u001b[0m: startswith first arg must be str or a tuple of str, not list"
     ]
    }
   ],
   "source": [
    "list2=['Salman','Sadiya','saliK','samoon']\n",
    "\n",
    "y=list(map(lambda y:y.upper(),list2))\n",
    "print(y)\n",
    "\n",
    "x=filter(lambda x: x.startswith(['o']),y)\n",
    "print(list(x)) \n",
    "\n",
    "#pending\n"
   ]
  },
  {
   "cell_type": "markdown",
   "id": "806c8053",
   "metadata": {},
   "source": [
    "# Practice list program of list from Geek for Geeks"
   ]
  },
  {
   "cell_type": "code",
   "execution_count": 1,
   "id": "8f554f72",
   "metadata": {},
   "outputs": [
    {
     "name": "stdout",
     "output_type": "stream",
     "text": [
      "[24, 35, 9, 56, 12]\n"
     ]
    }
   ],
   "source": [
    "# Python3 program to swap first\n",
    "# and last element of a list\n",
    " \n",
    "# Swap function\n",
    "def swapList(newList):\n",
    "    size = len(newList)\n",
    "     \n",
    "    # Swapping\n",
    "    temp = newList[0]\n",
    "    newList[0] = newList[size - 1]\n",
    "    newList[size - 1] = temp\n",
    "     \n",
    "    return newList\n",
    "     \n",
    "# Driver code\n",
    "newList = [12, 35, 9, 56, 24]\n",
    " \n",
    "print(swapList(newList))"
   ]
  },
  {
   "cell_type": "code",
   "execution_count": 2,
   "id": "37e6a39b",
   "metadata": {},
   "outputs": [
    {
     "name": "stdout",
     "output_type": "stream",
     "text": [
      "4\n"
     ]
    }
   ],
   "source": [
    "# Python program to find the\n",
    "# maximum of two numbers\n",
    " \n",
    " \n",
    "a = 2\n",
    "b = 4\n",
    " \n",
    "maximum = max(a, b)\n",
    "print(maximum)"
   ]
  },
  {
   "cell_type": "code",
   "execution_count": 3,
   "id": "cf6aeb4c",
   "metadata": {},
   "outputs": [
    {
     "name": "stdout",
     "output_type": "stream",
     "text": [
      "2\n"
     ]
    }
   ],
   "source": [
    "# Python program to find the\n",
    "# minimum of two numbers\n",
    "  \n",
    "  \n",
    "a = 2\n",
    "b = 4\n",
    "  \n",
    "minimum = min(a, b)\n",
    "print(minimum)\n"
   ]
  },
  {
   "cell_type": "code",
   "execution_count": 4,
   "id": "7c7c10e8",
   "metadata": {},
   "outputs": [
    {
     "name": "stdout",
     "output_type": "stream",
     "text": [
      "True\n"
     ]
    }
   ],
   "source": [
    "#checking in a list \n",
    "test_list = [1, 6, 3, 5, 3, 4]\n",
    "print(3 in test_list)"
   ]
  },
  {
   "cell_type": "code",
   "execution_count": 6,
   "id": "efebe4db",
   "metadata": {},
   "outputs": [
    {
     "name": "stdout",
     "output_type": "stream",
     "text": [
      "[4, 3, 5, 3, 6, 1]\n"
     ]
    }
   ],
   "source": [
    "#reversing a list\n",
    "test_list = [1, 6, 3, 5, 3, 4]\n",
    "print(list(reversed(test_list)))"
   ]
  },
  {
   "cell_type": "code",
   "execution_count": 28,
   "id": "dfe8988b",
   "metadata": {},
   "outputs": [
    {
     "name": "stdout",
     "output_type": "stream",
     "text": [
      "2 has occurred 11 times\n"
     ]
    }
   ],
   "source": [
    "##to check occurrence of a element\n",
    "lst = [8, 6, 8, 10, 8, 20, 10, 8, 8, 9,2,2,2,2,2,2,2,2,2,2,2]\n",
    "x=2\n",
    "def countX(lst,x):\n",
    "    return lst.count(x)\n",
    "\n",
    "print('{} has occurred {} times'.format(x,countX(lst,x)))"
   ]
  },
  {
   "cell_type": "code",
   "execution_count": 40,
   "id": "f41df485",
   "metadata": {},
   "outputs": [
    {
     "name": "stdout",
     "output_type": "stream",
     "text": [
      "x 8 has occured 6 times and y 6 has occured 1 times \n"
     ]
    }
   ],
   "source": [
    "#to check occurrence of a element\n",
    "x=8\n",
    "y=6\n",
    "lst = [8, 6, 8, 10, 8, 20, 10, 8, 8, 9,2,2,2,2,2,2,2,2,2,2,2]\n",
    "def count_of_elements(lst,x,y):\n",
    "    return lst.count(x) + lst.count(y)\n",
    "print('x {} has occured {} times and y {} has occured {} times '.format(x,count_of_elements(lst,x,y),y,lst.count(y)))"
   ]
  },
  {
   "cell_type": "code",
   "execution_count": 54,
   "id": "08d78c99",
   "metadata": {},
   "outputs": [
    {
     "name": "stdout",
     "output_type": "stream",
     "text": [
      "6\n",
      "24\n",
      "161280\n",
      "40320\n",
      "6720\n",
      "3840\n"
     ]
    }
   ],
   "source": [
    "##Multiplying elements in list\n",
    "from functools import reduce\n",
    "list1 = [1, 2, 3]\n",
    "list2 = [3, 2, 4]\n",
    "list3 = [3, 2, 4,4,5,6,7,8]\n",
    "list4 = [1, 2, 3,4,5,6,7,8]\n",
    "list5= [4,5,6,7,8]\n",
    "list6=[2,4,6,8,10]\n",
    "    \n",
    "result1 = reduce((lambda x, y: x * y), list1)\n",
    "result2 = reduce((lambda x, y: x * y), list2)\n",
    "result3 = reduce((lambda x, y: x * y), list3)\n",
    "result4=reduce((lambda x,y:x*y),list4)\n",
    "result5=reduce(lambda x,y:x*y,list5)\n",
    "result6=reduce(lambda x,y:x*y,list6)\n",
    "print(result1)\n",
    "print(result2)\n",
    "print(result3)\n",
    "print(result4)\n",
    "print(result5)\n",
    "print(result6)"
   ]
  },
  {
   "cell_type": "code",
   "execution_count": 55,
   "id": "47a7fec5",
   "metadata": {},
   "outputs": [
    {
     "name": "stdout",
     "output_type": "stream",
     "text": [
      "Second largest element is: 45\n"
     ]
    }
   ],
   "source": [
    "# Python program to find largest number\n",
    "# in a list\n",
    "\n",
    "list1 = [10, 20, 20, 4, 45, 45, 45, 99, 99]\n",
    " \n",
    "\n",
    "list2 = list(set(list1))\n",
    "\n",
    "list2.sort()\n",
    "\n",
    "print(\"Second largest element is:\", list2[-2])"
   ]
  },
  {
   "cell_type": "code",
   "execution_count": 62,
   "id": "3a5b88b1",
   "metadata": {},
   "outputs": [
    {
     "name": "stdout",
     "output_type": "stream",
     "text": [
      "[10, 20, 20, 4]\n"
     ]
    }
   ],
   "source": [
    "# Python program to find Even numbers\n",
    "# in a list\n",
    "\n",
    "list1 = [10, 20, 20, 4, 45, 45, 45, 99, 99]\n",
    " \n",
    "\n",
    "x=list(filter(lambda x:x%2==0,list1))\n",
    "\n",
    "print(x)\n",
    "\n"
   ]
  },
  {
   "cell_type": "code",
   "execution_count": 63,
   "id": "0e0b2251",
   "metadata": {},
   "outputs": [
    {
     "name": "stdout",
     "output_type": "stream",
     "text": [
      "[45, 45, 45, 99, 99]\n"
     ]
    }
   ],
   "source": [
    "# Python program to find odd numbers\n",
    "# in a list\n",
    "\n",
    "list1 = [10, 20, 20, 4, 45, 45, 45, 99, 99]\n",
    " \n",
    "\n",
    "x=list(filter(lambda x:x%2==1,list1))\n",
    "\n",
    "print(x)\n",
    "\n"
   ]
  },
  {
   "cell_type": "code",
   "execution_count": 65,
   "id": "4c0a6b10",
   "metadata": {},
   "outputs": [
    {
     "name": "stdout",
     "output_type": "stream",
     "text": [
      "Even numbers in the list:  3\n",
      "Odd numbers in the list:  4\n"
     ]
    }
   ],
   "source": [
    "# Python program to count Even and Odd numbers in a List\n",
    " \n",
    "list1 = [10, 21, 4, 45, 66, 93, 1]\n",
    " \n",
    "even_count = 0\n",
    "odd_count = 0\n",
    "\n",
    "for num in list1:\n",
    "\n",
    "    if num % 2 == 0:\n",
    "        even_count += 1\n",
    " \n",
    "    else:\n",
    "        odd_count += 1\n",
    " \n",
    "print(\"Even numbers in the list: \", even_count)\n",
    "print(\"Odd numbers in the list: \", odd_count)"
   ]
  },
  {
   "cell_type": "code",
   "execution_count": 67,
   "id": "dbcf24fa",
   "metadata": {},
   "outputs": [
    {
     "name": "stdout",
     "output_type": "stream",
     "text": [
      "Positive numbers in the list:  21 4 93\n"
     ]
    }
   ],
   "source": [
    "# Python program to print positive Numbers in a List\n",
    " \n",
    "# list of numbers\n",
    "list1 = [-10, 21, 4, -45, -66, 93, -11]\n",
    " \n",
    "\n",
    "pos_nos = list(filter(lambda x: (x >= 0), list1))\n",
    " \n",
    "print(\"Positive numbers in the list: \", *pos_nos)"
   ]
  },
  {
   "cell_type": "code",
   "execution_count": 68,
   "id": "032f8ace",
   "metadata": {},
   "outputs": [
    {
     "name": "stdout",
     "output_type": "stream",
     "text": [
      "Positive numbers in the list:  -10 -45 -66 -11\n"
     ]
    }
   ],
   "source": [
    "# Python program to print negative Numbers in a List\n",
    " \n",
    "# list of numbers\n",
    "list1 = [-10, 21, 4, -45, -66, 93, -11]\n",
    " \n",
    "\n",
    "pos_nos = list(filter(lambda x: (x <= 0), list1))\n",
    " \n",
    "print(\"Positive numbers in the list: \", *pos_nos)"
   ]
  },
  {
   "cell_type": "code",
   "execution_count": 70,
   "id": "6b9f76e1",
   "metadata": {},
   "outputs": [
    {
     "name": "stdout",
     "output_type": "stream",
     "text": [
      "positive_count numbers in the list:  3\n",
      "negative numbers in the list:  4\n"
     ]
    }
   ],
   "source": [
    "# Python program to count positive and negative numbers in a List\n",
    " \n",
    "list1 = [-10, 21, 4, -45, -66, 93, -11]\n",
    " \n",
    "positive_count = 0\n",
    "negative_count = 0\n",
    "\n",
    "for num in list1:\n",
    "\n",
    "    if num > 0 :\n",
    "        positive_count += 1\n",
    " \n",
    "    else:\n",
    "        negative_count += 1\n",
    " \n",
    "print(\"positive_count numbers in the list: \", positive_count)\n",
    "print(\"negative numbers in the list: \", negative_count)"
   ]
  },
  {
   "cell_type": "code",
   "execution_count": 72,
   "id": "ef629f7d",
   "metadata": {},
   "outputs": [
    {
     "name": "stdout",
     "output_type": "stream",
     "text": [
      "[('ram', '15', '8'), ('laxman', 'sita'), ('krishna', 'akbar', '45'), ('', '')]\n"
     ]
    }
   ],
   "source": [
    "# Python program to remove empty tuples from a\n",
    "# list of tuples function to remove empty tuples\n",
    "# using len()\n",
    "\n",
    "def Remove(tuples):\n",
    "    for i in tuples:\n",
    "        if(len(i) == 0):\n",
    "            tuples.remove(i)\n",
    "    return tuples\n",
    "\n",
    "tuples = [(), ('ram', '15', '8'), (), ('laxman', 'sita'),\n",
    "          ('krishna', 'akbar', '45'), ('', ''), ()]\n",
    "print(Remove(tuples))"
   ]
  },
  {
   "cell_type": "code",
   "execution_count": 100,
   "id": "7931e28d",
   "metadata": {},
   "outputs": [
    {
     "name": "stdout",
     "output_type": "stream",
     "text": [
      "[12, 234, 234, 10, 21, 4, 45, 66, 93, 1, 43, 42, 1, 34]\n"
     ]
    }
   ],
   "source": [
    "##Flattening of list\n",
    "list2=[[12,234,234],[10, 21, 4, 45, 66, 93, 1],[43,42,1],[34]]\n",
    "list3=[]\n",
    "for i in list2:\n",
    "\n",
    "    for j in i:\n",
    "        list3.append(j)\n",
    "print(list3)\n",
    " \n"
   ]
  },
  {
   "cell_type": "code",
   "execution_count": 104,
   "id": "e3c52173",
   "metadata": {},
   "outputs": [
    {
     "name": "stdout",
     "output_type": "stream",
     "text": [
      "['sravan', 'harsha', 'jyothika', 'deepika', 'ramya']\n"
     ]
    }
   ],
   "source": [
    "# removing str elements in list\n",
    "list1 = ['sravan', 98, 'harsha', 'jyothika',\n",
    "         'deepika', 78, 90, 'ramya']\n",
    "list2=[]\n",
    "\n",
    "for i in list1:\n",
    "\n",
    "    if(type(i) is str):\n",
    "        list2.append(i)\n",
    "print(list2)\n",
    "        "
   ]
  },
  {
   "cell_type": "code",
   "execution_count": 105,
   "id": "f2511e88",
   "metadata": {},
   "outputs": [
    {
     "name": "stdout",
     "output_type": "stream",
     "text": [
      "The original list 1 is : [[4, 3, 5], [1, 2, 3], [3, 7, 4]]\n",
      "The original list 2 is : [[1, 3], [9, 3, 5, 7], [8]]\n",
      "The concatenated Matrix : [[4, 3, 5, 1, 3], [1, 2, 3, 9, 3, 5, 7], [3, 7, 4, 8]]\n"
     ]
    }
   ],
   "source": [
    "\n",
    "# Python3 code to demonstrate working of\n",
    "# Concatenate 2 Matrix Row-wise\n",
    " \n",
    "# initializing lists\n",
    "test_list1 = [[4, 3, 5, ], [1, 2, 3], [3, 7, 4]]\n",
    "test_list2 = [[1, 3], [9, 3, 5, 7], [8]]\n",
    " \n",
    "# printing original lists\n",
    "print(\"The original list 1 is : \" + str(test_list1))\n",
    "print(\"The original list 2 is : \" + str(test_list2))\n",
    " \n",
    "for i in range(0, len(test_list1)):\n",
    "    test_list1[i].extend(test_list2[i])\n",
    "# printing result\n",
    "print(\"The concatenated Matrix : \" + str(test_list1))"
   ]
  },
  {
   "cell_type": "code",
   "execution_count": 107,
   "id": "378db010",
   "metadata": {},
   "outputs": [
    {
     "name": "stdout",
     "output_type": "stream",
     "text": [
      "The original list is : ['Gfg is best for geeks', 'All love Gfg', 'Gfg is best for CS', 'For CS geeks Gfg is best']\n"
     ]
    },
    {
     "ename": "NameError",
     "evalue": "name 'Counter' is not defined",
     "output_type": "error",
     "traceback": [
      "\u001b[1;31m---------------------------------------------------------------------------\u001b[0m",
      "\u001b[1;31mNameError\u001b[0m                                 Traceback (most recent call last)",
      "\u001b[1;32m~\\AppData\\Local\\Temp/ipykernel_21724/2857695827.py\u001b[0m in \u001b[0;36m<module>\u001b[1;34m\u001b[0m\n\u001b[0;32m     11\u001b[0m \u001b[1;33m\u001b[0m\u001b[0m\n\u001b[0;32m     12\u001b[0m \u001b[1;31m# mapping using Counter()\u001b[0m\u001b[1;33m\u001b[0m\u001b[1;33m\u001b[0m\u001b[0m\n\u001b[1;32m---> 13\u001b[1;33m \u001b[0mmappd\u001b[0m \u001b[1;33m=\u001b[0m \u001b[0mCounter\u001b[0m\u001b[1;33m(\u001b[0m\u001b[0mjoined\u001b[0m\u001b[1;33m.\u001b[0m\u001b[0msplit\u001b[0m\u001b[1;33m(\u001b[0m\u001b[1;33m)\u001b[0m\u001b[1;33m)\u001b[0m\u001b[1;33m\u001b[0m\u001b[1;33m\u001b[0m\u001b[0m\n\u001b[0m\u001b[0;32m     14\u001b[0m \u001b[1;33m\u001b[0m\u001b[0m\n\u001b[0;32m     15\u001b[0m \u001b[1;31m# getting total using sum\u001b[0m\u001b[1;33m\u001b[0m\u001b[1;33m\u001b[0m\u001b[0m\n",
      "\u001b[1;31mNameError\u001b[0m: name 'Counter' is not defined"
     ]
    }
   ],
   "source": [
    "test_list = [\"Gfg is best for geeks\",\n",
    "             \"All love Gfg\",\n",
    "             \"Gfg is best for CS\",\n",
    "             \"For CS geeks Gfg is best\"]\n",
    "              \n",
    "# printing original list\n",
    "print(\"The original list is : \" + str(test_list))\n",
    " \n",
    "# concatenating using join\n",
    "joined = \" \".join(ele for ele in test_list)\n",
    " \n",
    "# mapping using Counter()\n",
    "mappd = Counter(joined.split())\n",
    " \n",
    "# getting total using sum\n",
    "total_val = sum(mappd.values())\n",
    " \n",
    "# getting share of each word\n",
    "res = {key: val / total_val for key,\n",
    "       val in mappd.items()}\n",
    " \n",
    "# printing result\n",
    "print(\"Percentage share of each word : \" + str(res))"
   ]
  },
  {
   "cell_type": "code",
   "execution_count": 8,
   "id": "3feec969",
   "metadata": {},
   "outputs": [
    {
     "name": "stdout",
     "output_type": "stream",
     "text": [
      "{'Fruits01': 'Apple', 'Fruits02': 'Orange', 'Fruits03': 'Grapes'}\n"
     ]
    }
   ],
   "source": [
    "##removing space from the dictionary key\n",
    "fruity = {'Fruits 01' : 'Apple', 'Fruits 02' : 'Orange', 'Fruits 0 3 ': 'Grapes'}\n",
    "l=[]\n",
    "for i in fruity:\n",
    "    a=i.replace(' ','')\n",
    "    l.append(a)\n",
    "c=fruity.values()\n",
    "d=list(zip(l,c))\n",
    "print(dict(d))"
   ]
  },
  {
   "cell_type": "code",
   "execution_count": null,
   "id": "5370b08b",
   "metadata": {},
   "outputs": [],
   "source": []
  }
 ],
 "metadata": {
  "kernelspec": {
   "display_name": "Python 3 (ipykernel)",
   "language": "python",
   "name": "python3"
  },
  "language_info": {
   "codemirror_mode": {
    "name": "ipython",
    "version": 3
   },
   "file_extension": ".py",
   "mimetype": "text/x-python",
   "name": "python",
   "nbconvert_exporter": "python",
   "pygments_lexer": "ipython3",
   "version": "3.9.7"
  }
 },
 "nbformat": 4,
 "nbformat_minor": 5
}
