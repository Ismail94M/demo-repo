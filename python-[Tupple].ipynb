{
 "cells": [
  {
   "cell_type": "markdown",
   "id": "f4470800",
   "metadata": {},
   "source": [
    "# Tuples "
   ]
  },
  {
   "cell_type": "code",
   "execution_count": 1,
   "id": "01097362",
   "metadata": {},
   "outputs": [],
   "source": [
    "T=('car','van','bat')"
   ]
  },
  {
   "cell_type": "code",
   "execution_count": 2,
   "id": "669d5649",
   "metadata": {},
   "outputs": [
    {
     "data": {
      "text/plain": [
       "('car', 'van', 'bat')"
      ]
     },
     "execution_count": 2,
     "metadata": {},
     "output_type": "execute_result"
    }
   ],
   "source": [
    "T"
   ]
  },
  {
   "cell_type": "code",
   "execution_count": 3,
   "id": "8dea8154",
   "metadata": {},
   "outputs": [],
   "source": [
    "T=('car','van','bat','car')"
   ]
  },
  {
   "cell_type": "code",
   "execution_count": 4,
   "id": "7fd8848c",
   "metadata": {},
   "outputs": [
    {
     "data": {
      "text/plain": [
       "('car', 'van', 'bat', 'car')"
      ]
     },
     "execution_count": 4,
     "metadata": {},
     "output_type": "execute_result"
    }
   ],
   "source": [
    "T         ##Duplicate"
   ]
  },
  {
   "cell_type": "code",
   "execution_count": null,
   "id": "8cfc4d09",
   "metadata": {},
   "outputs": [],
   "source": [
    "T."
   ]
  },
  {
   "cell_type": "code",
   "execution_count": 5,
   "id": "191c3c4d",
   "metadata": {},
   "outputs": [],
   "source": [
    "L=['car','van','bat','car']"
   ]
  },
  {
   "cell_type": "code",
   "execution_count": 7,
   "id": "662603d6",
   "metadata": {},
   "outputs": [],
   "source": [
    "L.insert(1,'apple')"
   ]
  },
  {
   "cell_type": "code",
   "execution_count": 8,
   "id": "bbc27d10",
   "metadata": {},
   "outputs": [
    {
     "data": {
      "text/plain": [
       "['car', 'apple', 'van', 'bat', 'car']"
      ]
     },
     "execution_count": 8,
     "metadata": {},
     "output_type": "execute_result"
    }
   ],
   "source": [
    "L ##List operation inserting"
   ]
  },
  {
   "cell_type": "code",
   "execution_count": 10,
   "id": "f81998f6",
   "metadata": {},
   "outputs": [
    {
     "data": {
      "text/plain": [
       "2"
      ]
     },
     "execution_count": 10,
     "metadata": {},
     "output_type": "execute_result"
    }
   ],
   "source": [
    "T.count('car')     ##count"
   ]
  },
  {
   "cell_type": "code",
   "execution_count": 11,
   "id": "09011db0",
   "metadata": {},
   "outputs": [
    {
     "data": {
      "text/plain": [
       "0"
      ]
     },
     "execution_count": 11,
     "metadata": {},
     "output_type": "execute_result"
    }
   ],
   "source": [
    "T.index('car')  ##index"
   ]
  },
  {
   "cell_type": "code",
   "execution_count": 12,
   "id": "47583069",
   "metadata": {},
   "outputs": [
    {
     "data": {
      "text/plain": [
       "4"
      ]
     },
     "execution_count": 12,
     "metadata": {},
     "output_type": "execute_result"
    }
   ],
   "source": [
    "len(T)    ##lenght of tuples"
   ]
  },
  {
   "cell_type": "code",
   "execution_count": 13,
   "id": "ee8fdbb6",
   "metadata": {},
   "outputs": [
    {
     "name": "stdout",
     "output_type": "stream",
     "text": [
      "['car', 'van', 'bat', 'car']\n"
     ]
    }
   ],
   "source": [
    "print(list(T))      ##converting from tuples to list"
   ]
  },
  {
   "cell_type": "code",
   "execution_count": 14,
   "id": "13b5e627",
   "metadata": {},
   "outputs": [
    {
     "ename": "AttributeError",
     "evalue": "'tuple' object has no attribute 'pop'",
     "output_type": "error",
     "traceback": [
      "\u001b[1;31m---------------------------------------------------------------------------\u001b[0m",
      "\u001b[1;31mAttributeError\u001b[0m                            Traceback (most recent call last)",
      "\u001b[1;32m~\\AppData\\Local\\Temp/ipykernel_24556/2667435991.py\u001b[0m in \u001b[0;36m<module>\u001b[1;34m\u001b[0m\n\u001b[1;32m----> 1\u001b[1;33m \u001b[0mT\u001b[0m\u001b[1;33m.\u001b[0m\u001b[0mpop\u001b[0m\u001b[1;33m(\u001b[0m\u001b[1;34m'car'\u001b[0m\u001b[1;33m)\u001b[0m\u001b[1;33m\u001b[0m\u001b[1;33m\u001b[0m\u001b[0m\n\u001b[0m",
      "\u001b[1;31mAttributeError\u001b[0m: 'tuple' object has no attribute 'pop'"
     ]
    }
   ],
   "source": [
    "T.pop('car')  ## 'tuple' object has no attribute 'pop'\n"
   ]
  },
  {
   "cell_type": "code",
   "execution_count": 17,
   "id": "ad3b68a2",
   "metadata": {},
   "outputs": [
    {
     "name": "stdout",
     "output_type": "stream",
     "text": [
      "('car', 'apple', 'van', 'bat', 'car')\n"
     ]
    }
   ],
   "source": [
    "print(tuple(L))   ##converting list to tuple"
   ]
  },
  {
   "cell_type": "code",
   "execution_count": 36,
   "id": "cefde02e",
   "metadata": {},
   "outputs": [
    {
     "name": "stdout",
     "output_type": "stream",
     "text": [
      "2\n"
     ]
    }
   ],
   "source": [
    "count=0\n",
    "for i in T:\n",
    "    if i=='car':\n",
    "        count+=1\n",
    "print(count)"
   ]
  },
  {
   "cell_type": "code",
   "execution_count": 37,
   "id": "1e9e8302",
   "metadata": {},
   "outputs": [
    {
     "data": {
      "text/plain": [
       "2"
      ]
     },
     "execution_count": 37,
     "metadata": {},
     "output_type": "execute_result"
    }
   ],
   "source": [
    "T.count('car')"
   ]
  },
  {
   "cell_type": "code",
   "execution_count": 38,
   "id": "e4c26f3e",
   "metadata": {},
   "outputs": [
    {
     "data": {
      "text/plain": [
       "['car', 'apple', 'van', 'bat', 'car']"
      ]
     },
     "execution_count": 38,
     "metadata": {},
     "output_type": "execute_result"
    }
   ],
   "source": [
    "L"
   ]
  },
  {
   "cell_type": "code",
   "execution_count": 39,
   "id": "4e623015",
   "metadata": {},
   "outputs": [
    {
     "data": {
      "text/plain": [
       "('car', 'van', 'bat', 'car')"
      ]
     },
     "execution_count": 39,
     "metadata": {},
     "output_type": "execute_result"
    }
   ],
   "source": [
    "T"
   ]
  },
  {
   "cell_type": "code",
   "execution_count": 156,
   "id": "4d664198",
   "metadata": {},
   "outputs": [],
   "source": [
    "T=('car','van','bat','car',['jawa','royal enfield','pulsar'])"
   ]
  },
  {
   "cell_type": "code",
   "execution_count": 41,
   "id": "919aa0cc",
   "metadata": {},
   "outputs": [
    {
     "data": {
      "text/plain": [
       "['jawa', 'royal enfield', 'pulsar']"
      ]
     },
     "execution_count": 41,
     "metadata": {},
     "output_type": "execute_result"
    }
   ],
   "source": [
    "T[4]"
   ]
  },
  {
   "cell_type": "code",
   "execution_count": 62,
   "id": "2e469240",
   "metadata": {},
   "outputs": [
    {
     "name": "stdout",
     "output_type": "stream",
     "text": [
      "value of i car\n",
      "value of i van\n",
      "value of i bat\n",
      "value of i car\n",
      "value of i ['jawa', 'royal enfield', 'pulsar']\n",
      "value of j jawa\n",
      "value of j royal enfield\n",
      "value of j pulsar\n",
      "['car', 'van', 'bat', 'car', 'jawa', 'royal enfield', 'pulsar']\n"
     ]
    }
   ],
   "source": [
    "list1=[]\n",
    "for i in T:\n",
    "    print('value of i',i)\n",
    "    if type(i)==list:\n",
    "        for j in i:\n",
    "            print('value of j',j)\n",
    "            list1.append(j)\n",
    "        \n",
    "    else:\n",
    "        list1.append(i)\n",
    "        \n",
    "    \n",
    "print(list1)"
   ]
  },
  {
   "cell_type": "code",
   "execution_count": 63,
   "id": "fa8393f0",
   "metadata": {},
   "outputs": [
    {
     "name": "stdout",
     "output_type": "stream",
     "text": [
      "('car', 'van', 'bat', 'car', 'jawa', 'royal enfield', 'pulsar')\n"
     ]
    }
   ],
   "source": [
    "print(tuple(list1))"
   ]
  },
  {
   "cell_type": "code",
   "execution_count": 65,
   "id": "89e021f5",
   "metadata": {},
   "outputs": [],
   "source": [
    "a=(['jawa','royal enfield','pulsar'],['car', 'apple', 'van', 'bat', 'car'],'virat')\n"
   ]
  },
  {
   "cell_type": "code",
   "execution_count": 76,
   "id": "63535711",
   "metadata": {},
   "outputs": [
    {
     "name": "stdout",
     "output_type": "stream",
     "text": [
      "['jawa', 'royal enfield', 'pulsar', 'car', 'apple', 'van', 'bat', 'car', 'virat']\n"
     ]
    }
   ],
   "source": [
    "list2=[]\n",
    "for i in a:\n",
    "    if type(i)==list:\n",
    "        for j in i:\n",
    "            \n",
    "            list2.append(j)\n",
    "    else:\n",
    "        list2.append(i)\n",
    "print(list2)"
   ]
  },
  {
   "cell_type": "code",
   "execution_count": 77,
   "id": "77539bd9",
   "metadata": {},
   "outputs": [
    {
     "name": "stdout",
     "output_type": "stream",
     "text": [
      "('jawa', 'royal enfield', 'pulsar', 'car', 'apple', 'van', 'bat', 'car', 'virat')\n"
     ]
    }
   ],
   "source": [
    "print(tuple(list2))"
   ]
  },
  {
   "cell_type": "code",
   "execution_count": 78,
   "id": "922f85f9",
   "metadata": {},
   "outputs": [
    {
     "data": {
      "text/plain": [
       "('car', 'van', 'bat', 'car', ['jawa', 'royal enfield', 'pulsar'])"
      ]
     },
     "execution_count": 78,
     "metadata": {},
     "output_type": "execute_result"
    }
   ],
   "source": [
    "T"
   ]
  },
  {
   "cell_type": "code",
   "execution_count": 82,
   "id": "167add9d",
   "metadata": {},
   "outputs": [],
   "source": [
    "y=('car', 'van', 'bat')\n",
    "z=('x','y','z')"
   ]
  },
  {
   "cell_type": "code",
   "execution_count": 83,
   "id": "52e84275",
   "metadata": {},
   "outputs": [
    {
     "data": {
      "text/plain": [
       "('car', 'van', 'bat', 'x', 'y', 'z')"
      ]
     },
     "execution_count": 83,
     "metadata": {},
     "output_type": "execute_result"
    }
   ],
   "source": [
    "y+z  ##concatenation of tuples is possible"
   ]
  },
  {
   "cell_type": "markdown",
   "id": "06881691",
   "metadata": {},
   "source": [
    "# SETS"
   ]
  },
  {
   "cell_type": "code",
   "execution_count": 92,
   "id": "34b70b24",
   "metadata": {},
   "outputs": [
    {
     "data": {
      "text/plain": [
       "{'bat', 'car', 'van', 'wind'}"
      ]
     },
     "execution_count": 92,
     "metadata": {},
     "output_type": "execute_result"
    }
   ],
   "source": [
    "a={'car','car','van','bat','wind'}\n",
    "a     ##"
   ]
  },
  {
   "cell_type": "code",
   "execution_count": 85,
   "id": "d679c33b",
   "metadata": {},
   "outputs": [],
   "source": [
    "a.add('chair')"
   ]
  },
  {
   "cell_type": "code",
   "execution_count": 86,
   "id": "9fe0b985",
   "metadata": {},
   "outputs": [
    {
     "data": {
      "text/plain": [
       "{'bat', 'car', 'chair', 'van'}"
      ]
     },
     "execution_count": 86,
     "metadata": {},
     "output_type": "execute_result"
    }
   ],
   "source": [
    "a   ##mutable"
   ]
  },
  {
   "cell_type": "code",
   "execution_count": 89,
   "id": "41a55f16",
   "metadata": {},
   "outputs": [],
   "source": [
    "b={'car','fan','wind','window','wind'}   ##unique"
   ]
  },
  {
   "cell_type": "code",
   "execution_count": 90,
   "id": "a22695a3",
   "metadata": {},
   "outputs": [
    {
     "data": {
      "text/plain": [
       "{'bat', 'car', 'chair', 'fan', 'van', 'wind', 'window'}"
      ]
     },
     "execution_count": 90,
     "metadata": {},
     "output_type": "execute_result"
    }
   ],
   "source": [
    "a.union(b)     ##union"
   ]
  },
  {
   "cell_type": "code",
   "execution_count": 93,
   "id": "4511f8f2",
   "metadata": {},
   "outputs": [
    {
     "data": {
      "text/plain": [
       "{'car', 'wind'}"
      ]
     },
     "execution_count": 93,
     "metadata": {},
     "output_type": "execute_result"
    }
   ],
   "source": [
    "a.intersection(b)    ##intersection"
   ]
  },
  {
   "cell_type": "code",
   "execution_count": 94,
   "id": "db0b53ac",
   "metadata": {},
   "outputs": [
    {
     "data": {
      "text/plain": [
       "{'car', 'wind'}"
      ]
     },
     "execution_count": 94,
     "metadata": {},
     "output_type": "execute_result"
    }
   ],
   "source": [
    "c=a.intersection(b) \n",
    "c"
   ]
  },
  {
   "cell_type": "code",
   "execution_count": 106,
   "id": "e3e0798c",
   "metadata": {},
   "outputs": [],
   "source": [
    "d=(sorted(c,reverse=True))"
   ]
  },
  {
   "cell_type": "code",
   "execution_count": 107,
   "id": "ec6c4275",
   "metadata": {},
   "outputs": [
    {
     "data": {
      "text/plain": [
       "['wind', 'car']"
      ]
     },
     "execution_count": 107,
     "metadata": {},
     "output_type": "execute_result"
    }
   ],
   "source": [
    "d"
   ]
  },
  {
   "cell_type": "code",
   "execution_count": 108,
   "id": "3f35b061",
   "metadata": {},
   "outputs": [
    {
     "data": {
      "text/plain": [
       "{'car', 'wind'}"
      ]
     },
     "execution_count": 108,
     "metadata": {},
     "output_type": "execute_result"
    }
   ],
   "source": [
    "set(d)"
   ]
  },
  {
   "cell_type": "code",
   "execution_count": 109,
   "id": "1921698a",
   "metadata": {},
   "outputs": [
    {
     "data": {
      "text/plain": [
       "{'bat', 'car', 'van', 'wind'}"
      ]
     },
     "execution_count": 109,
     "metadata": {},
     "output_type": "execute_result"
    }
   ],
   "source": [
    "a      ##sorting of set is not possible"
   ]
  },
  {
   "cell_type": "code",
   "execution_count": 119,
   "id": "b9f378c6",
   "metadata": {},
   "outputs": [
    {
     "name": "stdout",
     "output_type": "stream",
     "text": [
      "given word doesnt exist\n"
     ]
    }
   ],
   "source": [
    "for i in a:\n",
    "    if i=='daam':\n",
    "        print(i)\n",
    "    else:\n",
    "        print('given word doesnt exist')\n",
    "        break"
   ]
  },
  {
   "cell_type": "code",
   "execution_count": 121,
   "id": "43353151",
   "metadata": {},
   "outputs": [
    {
     "name": "stdout",
     "output_type": "stream",
     "text": [
      "('bat', 'car', 'wind', 'van')\n"
     ]
    }
   ],
   "source": [
    "print(tuple(a))   ##converting to tuple"
   ]
  },
  {
   "cell_type": "code",
   "execution_count": 126,
   "id": "3691214d",
   "metadata": {},
   "outputs": [
    {
     "data": {
      "text/plain": [
       "{'bat', 'car', 'van', 'wind'}"
      ]
     },
     "execution_count": 126,
     "metadata": {},
     "output_type": "execute_result"
    }
   ],
   "source": [
    "a.add('wind') ##add\n",
    "a"
   ]
  },
  {
   "cell_type": "code",
   "execution_count": 128,
   "id": "db65dc08",
   "metadata": {},
   "outputs": [
    {
     "data": {
      "text/plain": [
       "{'bat', 'car', 'van'}"
      ]
     },
     "execution_count": 128,
     "metadata": {},
     "output_type": "execute_result"
    }
   ],
   "source": [
    "a.remove('wind') ##remove\n",
    "a"
   ]
  },
  {
   "cell_type": "code",
   "execution_count": 127,
   "id": "c9f14a00",
   "metadata": {},
   "outputs": [
    {
     "ename": "TypeError",
     "evalue": "'set' object is not subscriptable",
     "output_type": "error",
     "traceback": [
      "\u001b[1;31m---------------------------------------------------------------------------\u001b[0m",
      "\u001b[1;31mTypeError\u001b[0m                                 Traceback (most recent call last)",
      "\u001b[1;32m~\\AppData\\Local\\Temp/ipykernel_24556/240059899.py\u001b[0m in \u001b[0;36m<module>\u001b[1;34m\u001b[0m\n\u001b[1;32m----> 1\u001b[1;33m \u001b[0ma\u001b[0m\u001b[1;33m[\u001b[0m\u001b[1;36m1\u001b[0m\u001b[1;33m]\u001b[0m\u001b[1;33m\u001b[0m\u001b[1;33m\u001b[0m\u001b[0m\n\u001b[0m",
      "\u001b[1;31mTypeError\u001b[0m: 'set' object is not subscriptable"
     ]
    }
   ],
   "source": [
    "a[1] ##'set' object is not subscriptable"
   ]
  },
  {
   "cell_type": "code",
   "execution_count": 203,
   "id": "5d898ce9",
   "metadata": {},
   "outputs": [],
   "source": [
    "a={'bat', 'car', 'van',('jawa', 'royal enfield', 'pulsar')}  ##"
   ]
  },
  {
   "cell_type": "code",
   "execution_count": 131,
   "id": "b9cadeaf",
   "metadata": {},
   "outputs": [
    {
     "data": {
      "text/plain": [
       "{('jawa', 'royal enfield', 'pulsar'), 'bat', 'car', 'van'}"
      ]
     },
     "execution_count": 131,
     "metadata": {},
     "output_type": "execute_result"
    }
   ],
   "source": [
    "a"
   ]
  },
  {
   "cell_type": "code",
   "execution_count": 149,
   "id": "6e676027",
   "metadata": {},
   "outputs": [
    {
     "name": "stdout",
     "output_type": "stream",
     "text": [
      "['bat', 'car', 'jawa', 'royal enfield', 'pulsar', 'van']\n"
     ]
    }
   ],
   "source": [
    "b=[]\n",
    "for i in a:\n",
    "    if type(i)==tuple:\n",
    "        for j in i:\n",
    "            b.append(j)\n",
    "    else:\n",
    "        b.append(i)\n",
    "print(b)\n",
    "    "
   ]
  },
  {
   "cell_type": "code",
   "execution_count": 152,
   "id": "9a80023d",
   "metadata": {},
   "outputs": [
    {
     "data": {
      "text/plain": [
       "6"
      ]
     },
     "execution_count": 152,
     "metadata": {},
     "output_type": "execute_result"
    }
   ],
   "source": [
    "len(b)        ##lenght"
   ]
  },
  {
   "cell_type": "code",
   "execution_count": 162,
   "id": "7b9db03e",
   "metadata": {},
   "outputs": [
    {
     "data": {
      "text/plain": [
       "5"
      ]
     },
     "execution_count": 162,
     "metadata": {},
     "output_type": "execute_result"
    }
   ],
   "source": [
    "b.index('van')"
   ]
  },
  {
   "cell_type": "code",
   "execution_count": 167,
   "id": "c816771a",
   "metadata": {},
   "outputs": [],
   "source": [
    "a.remove('van')  ##remove"
   ]
  },
  {
   "cell_type": "code",
   "execution_count": 168,
   "id": "4be54cb7",
   "metadata": {},
   "outputs": [
    {
     "data": {
      "text/plain": [
       "{('jawa', 'royal enfield', 'pulsar'), 'bat', 'car'}"
      ]
     },
     "execution_count": 168,
     "metadata": {},
     "output_type": "execute_result"
    }
   ],
   "source": [
    "a"
   ]
  },
  {
   "cell_type": "code",
   "execution_count": 225,
   "id": "bbbc83b2",
   "metadata": {},
   "outputs": [
    {
     "name": "stdout",
     "output_type": "stream",
     "text": [
      "{'bat', ('royal enfield', 'pulsar'), 'car', 'van'}\n"
     ]
    }
   ],
   "source": [
    "l=[]\n",
    "for i in a:\n",
    "    \n",
    "    if type(i)==tuple:\n",
    "        i=list(i)\n",
    "        i.remove('jawa')\n",
    "        i=tuple(i)\n",
    "        \n",
    "        l.append(i)\n",
    "    else:\n",
    "        l.append(i)        \n",
    "print(set(l))\n",
    "  \n",
    "        "
   ]
  },
  {
   "cell_type": "code",
   "execution_count": null,
   "id": "6dc2505f",
   "metadata": {},
   "outputs": [],
   "source": [
    "i=list(i)\n",
    "            print('inside value of i',i)\n",
    "            i.remove('jawa')\n",
    "            i=tuple(i)\n",
    "    else:\n",
    "        l.append(i)\n",
    "print(l)\n"
   ]
  },
  {
   "cell_type": "code",
   "execution_count": 226,
   "id": "47f53d5a",
   "metadata": {},
   "outputs": [],
   "source": [
    "set1={1,2,3,4}-{4,5,6}\n",
    "set2={4,5,6}"
   ]
  },
  {
   "cell_type": "code",
   "execution_count": 227,
   "id": "5cc9ae6f",
   "metadata": {},
   "outputs": [
    {
     "data": {
      "text/plain": [
       "{1, 2, 3}"
      ]
     },
     "execution_count": 227,
     "metadata": {},
     "output_type": "execute_result"
    }
   ],
   "source": [
    "set1-set2"
   ]
  },
  {
   "cell_type": "code",
   "execution_count": 228,
   "id": "6e26366d",
   "metadata": {},
   "outputs": [
    {
     "data": {
      "text/plain": [
       "{5, 6}"
      ]
     },
     "execution_count": 228,
     "metadata": {},
     "output_type": "execute_result"
    }
   ],
   "source": [
    "set2-set1"
   ]
  },
  {
   "cell_type": "code",
   "execution_count": 229,
   "id": "0a59b8fe",
   "metadata": {},
   "outputs": [],
   "source": [
    "set1={'red','green','blue'}\n",
    "set2={'black','yellow','blue'}"
   ]
  },
  {
   "cell_type": "code",
   "execution_count": 230,
   "id": "cbd8fca3",
   "metadata": {},
   "outputs": [
    {
     "data": {
      "text/plain": [
       "{'green', 'red'}"
      ]
     },
     "execution_count": 230,
     "metadata": {},
     "output_type": "execute_result"
    }
   ],
   "source": [
    "set1-set2"
   ]
  },
  {
   "cell_type": "code",
   "execution_count": 231,
   "id": "b11c199e",
   "metadata": {},
   "outputs": [
    {
     "data": {
      "text/plain": [
       "{'black', 'yellow'}"
      ]
     },
     "execution_count": 231,
     "metadata": {},
     "output_type": "execute_result"
    }
   ],
   "source": [
    "set2-set1"
   ]
  },
  {
   "cell_type": "code",
   "execution_count": 236,
   "id": "47a4fe70",
   "metadata": {},
   "outputs": [],
   "source": [
    "set1={('red','green','blue'),('one','two','three'),'maruti','zen','honda'}"
   ]
  },
  {
   "cell_type": "code",
   "execution_count": 237,
   "id": "4f8dc2e3",
   "metadata": {},
   "outputs": [
    {
     "data": {
      "text/plain": [
       "{('one', 'two', 'three'), ('red', 'green', 'blue'), 'honda', 'maruti', 'zen'}"
      ]
     },
     "execution_count": 237,
     "metadata": {},
     "output_type": "execute_result"
    }
   ],
   "source": [
    "set1"
   ]
  },
  {
   "cell_type": "code",
   "execution_count": 238,
   "id": "f45a2c0f",
   "metadata": {},
   "outputs": [
    {
     "name": "stdout",
     "output_type": "stream",
     "text": [
      "maruti\n",
      "('red', 'green', 'blue')\n",
      "zen\n",
      "honda\n",
      "('one', 'two', 'three')\n"
     ]
    }
   ],
   "source": [
    "for i in set1:\n",
    "    print(i)\n"
   ]
  },
  {
   "cell_type": "code",
   "execution_count": null,
   "id": "9448533b",
   "metadata": {},
   "outputs": [],
   "source": [
    "##samoon stratergy\n",
    "1.remove from tuple \n",
    "2.two for loops\n",
    "3. 2 if,else conditions\n",
    "4. 1st convert into a list then convert back to set\n",
    "5."
   ]
  },
  {
   "cell_type": "code",
   "execution_count": 1,
   "id": "e27eb228",
   "metadata": {},
   "outputs": [
    {
     "data": {
      "text/plain": [
       "False"
      ]
     },
     "execution_count": 1,
     "metadata": {},
     "output_type": "execute_result"
    }
   ],
   "source": [
    "0.049>0.051"
   ]
  },
  {
   "cell_type": "markdown",
   "id": "e0412448",
   "metadata": {},
   "source": [
    "# Practice"
   ]
  },
  {
   "cell_type": "code",
   "execution_count": 4,
   "id": "c092939e",
   "metadata": {},
   "outputs": [
    {
     "name": "stdout",
     "output_type": "stream",
     "text": [
      "True\n"
     ]
    }
   ],
   "source": [
    "l=[22,33,4,6,754,342,65,8565]\n",
    "print(22 in l)"
   ]
  },
  {
   "cell_type": "code",
   "execution_count": 5,
   "id": "3d578caa",
   "metadata": {},
   "outputs": [
    {
     "name": "stdout",
     "output_type": "stream",
     "text": [
      "True\n"
     ]
    }
   ],
   "source": [
    "l=[22,33,4,6,754,342,65,8565]\n",
    "print(225 not in l)"
   ]
  },
  {
   "cell_type": "code",
   "execution_count": 14,
   "id": "54489582",
   "metadata": {},
   "outputs": [
    {
     "name": "stdout",
     "output_type": "stream",
     "text": [
      "22\n",
      "34\n",
      "34\n",
      "22\n",
      "22\n"
     ]
    }
   ],
   "source": [
    "z=[22,34,34,56,12,22,976,5634,23,22]\n",
    "for i in z:\n",
    "    if z.count(i) > 1:\n",
    "        print(i)"
   ]
  },
  {
   "cell_type": "code",
   "execution_count": 95,
   "id": "ba61bfce",
   "metadata": {},
   "outputs": [
    {
     "name": "stdout",
     "output_type": "stream",
     "text": [
      "enter the namenahir\n",
      "enter the namerihan\n",
      "its a anagram\n"
     ]
    }
   ],
   "source": [
    "#Anagram\n",
    "def anagram(s1,s2):\n",
    "    s1=input('enter the name')\n",
    "    s2=input('enter the name')\n",
    "    if set(s1)==set(s2):\n",
    "        print('its a anagram')\n",
    "    else:\n",
    "        print('its not a anagram')\n",
    "    \n",
    "anagram('s1','s2')        "
   ]
  },
  {
   "cell_type": "code",
   "execution_count": null,
   "id": "e9866675",
   "metadata": {},
   "outputs": [],
   "source": [
    "anagram(s1,s2)"
   ]
  },
  {
   "cell_type": "code",
   "execution_count": 54,
   "id": "a4bbdf95",
   "metadata": {},
   "outputs": [
    {
     "name": "stdout",
     "output_type": "stream",
     "text": [
      "[56, 12, 976, 5634, 23]\n"
     ]
    }
   ],
   "source": [
    "k=[22,34,34,56,12,22,976,5634,23,22]\n",
    "h=[]\n",
    "for i in k:\n",
    "    if k.count(i) <= 1:\n",
    "        h.append(i)\n",
    "print(h)\n",
    "        "
   ]
  },
  {
   "cell_type": "code",
   "execution_count": 100,
   "id": "6cf9bf9a",
   "metadata": {},
   "outputs": [],
   "source": [
    "def find_pairs(l,x):\n",
    "    l=int(input('enter the number'))\n",
    "    x=int(input('enter the number'))\n",
    "\n",
    "    pairs=[]\n",
    "    for (i,el_1) in enumerate(l):\n",
    "        for (j,el_2) in enumerate(l[i+1:]):\n",
    "            if el_1 + el_2 == x:\n",
    "                pairs.append((el_1,el_2))\n",
    "    return pairs\n"
   ]
  },
  {
   "cell_type": "code",
   "execution_count": 101,
   "id": "81263844",
   "metadata": {},
   "outputs": [
    {
     "ename": "NameError",
     "evalue": "name 'x' is not defined",
     "output_type": "error",
     "traceback": [
      "\u001b[1;31m---------------------------------------------------------------------------\u001b[0m",
      "\u001b[1;31mNameError\u001b[0m                                 Traceback (most recent call last)",
      "\u001b[1;32m~\\AppData\\Local\\Temp/ipykernel_18688/2115689638.py\u001b[0m in \u001b[0;36m<module>\u001b[1;34m\u001b[0m\n\u001b[1;32m----> 1\u001b[1;33m \u001b[0mfind_pairs\u001b[0m\u001b[1;33m(\u001b[0m\u001b[0ml\u001b[0m\u001b[1;33m,\u001b[0m\u001b[0mx\u001b[0m\u001b[1;33m)\u001b[0m\u001b[1;33m\u001b[0m\u001b[1;33m\u001b[0m\u001b[0m\n\u001b[0m",
      "\u001b[1;31mNameError\u001b[0m: name 'x' is not defined"
     ]
    }
   ],
   "source": [
    "find_pairs(l,x)"
   ]
  },
  {
   "cell_type": "code",
   "execution_count": 125,
   "id": "1f03cf45",
   "metadata": {},
   "outputs": [],
   "source": [
    "def palindrome(a):\n",
    "    a=input('enter the name:')\n",
    "    if a==a[::-1]:\n",
    "        print('its a palindrome')\n",
    "    else:\n",
    "        print('not a palindrome')\n",
    "    return a"
   ]
  },
  {
   "cell_type": "code",
   "execution_count": 126,
   "id": "af818ed3",
   "metadata": {},
   "outputs": [
    {
     "name": "stdout",
     "output_type": "stream",
     "text": [
      "enter the name:ziniz\n",
      "its a palindrome\n"
     ]
    },
    {
     "data": {
      "text/plain": [
       "'ziniz'"
      ]
     },
     "execution_count": 126,
     "metadata": {},
     "output_type": "execute_result"
    }
   ],
   "source": [
    "palindrome(a)"
   ]
  },
  {
   "cell_type": "code",
   "execution_count": 136,
   "id": "edbdd074",
   "metadata": {},
   "outputs": [
    {
     "name": "stdout",
     "output_type": "stream",
     "text": [
      "[3, 4, 5, 6]\n",
      "as a stack [3, 4, 5, 6]\n",
      "as a queue [5, 3, 4, 5]\n"
     ]
    }
   ],
   "source": [
    "#as a list\n",
    "l=[3,4]\n",
    "l+=[5,6]\n",
    "print(l)\n",
    "\n",
    "#as a stack\n",
    "l.append(10)\n",
    "l.pop()\n",
    "print('as a stack',l)\n",
    "\n",
    "#as a queue\n",
    "l.insert(0,5)\n",
    "l.pop()\n",
    "print('as a queue',l)"
   ]
  },
  {
   "cell_type": "code",
   "execution_count": 147,
   "id": "f4e8078b",
   "metadata": {},
   "outputs": [
    {
     "name": "stdout",
     "output_type": "stream",
     "text": [
      "[1, 2, 3, 4, 5, 6, 7, 8, 9, 10, 11, 12, 13, 14, 15, 16, 17, 18, 19, 21, 22, 23, 24, 25, 26, 27, 28, 29, 30, 31, 32, 33, 34, 35, 36, 37, 38, 39, 40, 41, 42, 43, 44, 45, 46, 47, 48, 49, 50, 51, 52, 53, 54, 55, 56, 57, 58, 59, 60, 61, 62, 63, 64, 65, 66, 67, 68, 69, 70, 71, 72, 73, 74, 75, 76, 77, 78, 79, 80, 81, 82, 83, 84, 85, 86, 87, 88, 89, 90, 91, 92, 93, 94, 95, 96, 97, 98, 99]\n",
      "{20}\n"
     ]
    }
   ],
   "source": [
    "\n",
    "def get_missing(lst):\n",
    "    return set(range(lst[len(lst)-1])[1:])-set(l)\n",
    "l=list(range(1,100))\n",
    "l.remove(20)\n",
    "print(l)\n",
    "print(get_missing(l))\n",
    "    "
   ]
  },
  {
   "cell_type": "code",
   "execution_count": 150,
   "id": "0eda998e",
   "metadata": {},
   "outputs": [
    {
     "name": "stdout",
     "output_type": "stream",
     "text": [
      "[1, 2, 3, 4, 5, 6, 7, 8, 9, 10, 11, 12, 13, 14, 15, 16, 17, 18, 19, 20, 21, 22, 23, 24, 25, 26, 27, 28, 29, 30, 31, 32, 33, 34, 35, 36, 37, 38, 39, 40, 41, 42, 43, 44, 45, 46, 47, 48, 49, 50, 51, 52, 53, 54, 55, 56, 57, 58, 59, 60, 61, 62, 63, 64, 65, 66, 67, 68, 69, 70, 71, 72, 73, 74, 75, 76, 77, 78, 79, 80, 81, 82, 83, 84, 85, 86, 87, 88, 89, 90, 91, 92, 93, 94, 95, 96, 97, 98, 99]\n"
     ]
    }
   ],
   "source": [
    "f=list(range(1,100))\n",
    "print(f)"
   ]
  },
  {
   "cell_type": "code",
   "execution_count": 157,
   "id": "ae58622f",
   "metadata": {},
   "outputs": [
    {
     "name": "stdout",
     "output_type": "stream",
     "text": [
      "[1, 2, 3, 4, 5, 6, 7, 8, 9, 10, 11, 12, 13, 14, 15, 16, 17, 18, 19, 20, 21, 22, 23, 24, 25, 26, 27, 28, 29, 30, 31, 32, 33, 34, 35, 36, 37, 38, 39, 40, 41, 42, 43, 44, 45, 46, 47, 48, 49, 50, 51, 52, 53, 54, 55, 56, 57, 58, 59, 60, 61, 62, 63, 64, 65, 66, 67, 68, 69, 70, 71, 72, 73, 74, 75, 76, 77, 78, 79, 80, 81, 82, 83, 84, 85, 86, 87, 88, 89, 90, 91, 92, 93, 94, 95, 96, 97, 98, 99]\n"
     ]
    }
   ],
   "source": [
    "g=list(range(1,100))\n",
    "print(g)"
   ]
  },
  {
   "cell_type": "code",
   "execution_count": 158,
   "id": "ae87059b",
   "metadata": {},
   "outputs": [
    {
     "name": "stdout",
     "output_type": "stream",
     "text": [
      "(1, 2, 3, 4, 5, 6, 7, 8, 9, 10, 11, 12, 13, 14, 15, 16, 17, 18, 19, 20, 21, 22, 23, 24, 25, 26, 27, 28, 29, 30, 31, 32, 33, 34, 35, 36, 37, 38, 39, 40, 41, 42, 43, 44, 45, 46, 47, 48, 49, 50, 51, 52, 53, 54, 55, 56, 57, 58, 59, 60, 61, 62, 63, 64, 65, 66, 67, 68, 69, 70, 71, 72, 73, 74, 75, 76, 77, 78, 79, 80, 81, 82, 83, 84, 85, 86, 87, 88, 89, 90, 91, 92, 93, 94, 95, 96, 97, 98, 99)\n"
     ]
    }
   ],
   "source": [
    "t=tuple(range(1,100))\n",
    "print(t)"
   ]
  },
  {
   "cell_type": "code",
   "execution_count": 197,
   "id": "6f6fe926",
   "metadata": {},
   "outputs": [
    {
     "name": "stdout",
     "output_type": "stream",
     "text": [
      "(1, 2, 3, 4, 5, 6, 7, 8, 9, 10, 11, 12, 13, 14, 15, 16, 17, 18, 19, 20, 21, 22, 23, 24, 25, 26, 27, 28, 29, 30, 31, 32, 33, 34, 35, 36, 37, 38, 39, 40, 41, 42, 43, 44, 45, 46, 47, 48, 49, 50, 51, 52, 53, 54, 55, 56, 57, 58, 59, 60, 61, 62, 63, 64, 65, 66, 67, 68, 69, 70, 71, 72, 73, 74, 75, 76, 77, 78, 79, 80, 81, 82, 83, 84, 85, 86, 87, 88, 89, 90, 91, 92, 93, 94, 95, 96, 97, 98, 99)\n"
     ]
    }
   ],
   "source": [
    "s=set(range(1,100))\n",
    "print(t)"
   ]
  },
  {
   "cell_type": "code",
   "execution_count": 196,
   "id": "9fce6a55",
   "metadata": {},
   "outputs": [
    {
     "ename": "KeyError",
     "evalue": "22",
     "output_type": "error",
     "traceback": [
      "\u001b[1;31m---------------------------------------------------------------------------\u001b[0m",
      "\u001b[1;31mKeyError\u001b[0m                                  Traceback (most recent call last)",
      "\u001b[1;32m~\\AppData\\Local\\Temp/ipykernel_18688/949801339.py\u001b[0m in \u001b[0;36m<module>\u001b[1;34m\u001b[0m\n\u001b[0;32m      3\u001b[0m     \u001b[0md\u001b[0m\u001b[1;33m[\u001b[0m\u001b[0mi\u001b[0m\u001b[1;33m]\u001b[0m\u001b[1;33m=\u001b[0m\u001b[0mrange\u001b[0m\u001b[1;33m(\u001b[0m\u001b[1;36m1\u001b[0m\u001b[1;33m,\u001b[0m\u001b[1;36m100\u001b[0m\u001b[1;33m)\u001b[0m\u001b[1;33m\u001b[0m\u001b[1;33m\u001b[0m\u001b[0m\n\u001b[0;32m      4\u001b[0m     \u001b[0md\u001b[0m\u001b[1;33m[\u001b[0m\u001b[0mj\u001b[0m\u001b[1;33m]\u001b[0m\u001b[1;33m=\u001b[0m\u001b[0mrange\u001b[0m\u001b[1;33m(\u001b[0m\u001b[1;36m1\u001b[0m\u001b[1;33m,\u001b[0m\u001b[1;36m100\u001b[0m\u001b[1;33m)\u001b[0m\u001b[1;33m\u001b[0m\u001b[1;33m\u001b[0m\u001b[0m\n\u001b[1;32m----> 5\u001b[1;33m \u001b[0mprint\u001b[0m\u001b[1;33m(\u001b[0m\u001b[0md\u001b[0m\u001b[1;33m[\u001b[0m\u001b[0mi\u001b[0m\u001b[1;33m]\u001b[0m\u001b[1;33m.\u001b[0m\u001b[0mitems\u001b[0m\u001b[1;33m(\u001b[0m\u001b[1;33m)\u001b[0m\u001b[1;33m)\u001b[0m\u001b[1;33m\u001b[0m\u001b[1;33m\u001b[0m\u001b[0m\n\u001b[0m",
      "\u001b[1;31mKeyError\u001b[0m: 22"
     ]
    }
   ],
   "source": [
    "d={}\n",
    "for i,j in d.items():\n",
    "    d[i]=range(1,100)\n",
    "    d[j]=range(1,100)\n",
    "print(d[i].items())"
   ]
  },
  {
   "cell_type": "code",
   "execution_count": 281,
   "id": "6aae1312",
   "metadata": {},
   "outputs": [],
   "source": [
    "def fibo(n):\n",
    "    x=0\n",
    "    y=1\n",
    "    z=0\n",
    "    while z <= n :\n",
    "        \n",
    "        x=y\n",
    "        y=z\n",
    "        z=x+y\n",
    "        n+=1  \n",
    "        print(x,end='')\n"
   ]
  },
  {
   "cell_type": "code",
   "execution_count": 282,
   "id": "057df8d5",
   "metadata": {},
   "outputs": [
    {
     "name": "stdout",
     "output_type": "stream",
     "text": [
      "1011235813"
     ]
    }
   ],
   "source": [
    "fibo(20) "
   ]
  },
  {
   "cell_type": "code",
   "execution_count": 308,
   "id": "ee2904dd",
   "metadata": {},
   "outputs": [],
   "source": [
    "#prime number\n",
    "\n",
    "def prime_numbers(a):\n",
    "    cnt=1\n",
    "    for i in range(1,a):\n",
    "        if a%i==0:\n",
    "            cnt+=1\n",
    "    if cnt==2:\n",
    "        print('its a prime number')\n",
    "    else:\n",
    "        print('not a prime number')"
   ]
  },
  {
   "cell_type": "code",
   "execution_count": 315,
   "id": "98fa6c31",
   "metadata": {},
   "outputs": [
    {
     "name": "stdout",
     "output_type": "stream",
     "text": [
      "not a prime number\n"
     ]
    }
   ],
   "source": [
    "prime_numbers(21)"
   ]
  },
  {
   "cell_type": "code",
   "execution_count": 345,
   "id": "4a5eb328",
   "metadata": {},
   "outputs": [],
   "source": [
    "#perfect number\n",
    "\n",
    "def perfect_numbers(a):\n",
    "    sum1=0\n",
    "    for i in range(1,a):\n",
    "        if a%i==0:\n",
    "            print(a)\n",
    "            sum1+=i\n",
    "    if sum1==a:\n",
    "        print('its a perfect number')\n",
    "    else:\n",
    "        print('not a perfect number')"
   ]
  },
  {
   "cell_type": "code",
   "execution_count": 346,
   "id": "8c97537c",
   "metadata": {},
   "outputs": [
    {
     "name": "stdout",
     "output_type": "stream",
     "text": [
      "6\n",
      "6\n",
      "6\n",
      "its a perfect number\n"
     ]
    }
   ],
   "source": [
    "perfect_numbers(6)"
   ]
  },
  {
   "cell_type": "markdown",
   "id": "0c470f7c",
   "metadata": {},
   "source": [
    "# Geek for Geeks"
   ]
  },
  {
   "cell_type": "code",
   "execution_count": 349,
   "id": "66dead24",
   "metadata": {},
   "outputs": [
    {
     "name": "stdout",
     "output_type": "stream",
     "text": [
      "[24, 35, 9, 56, 12]\n"
     ]
    }
   ],
   "source": [
    "\n",
    "# Python3 program to swap first\n",
    "# and last element of a list\n",
    " \n",
    "# Swap function\n",
    "def swapList(newList):\n",
    "    size = len(newList)\n",
    "     \n",
    "    # Swapping\n",
    "    temp = newList[0]\n",
    "    newList[0] = newList[size - 1]\n",
    "    newList[size - 1] = temp\n",
    "     \n",
    "    return newList\n",
    "     \n",
    "# Driver code\n",
    "newList = [12, 35, 9, 56, 24]\n",
    " \n",
    "print(swapList(newList))"
   ]
  },
  {
   "cell_type": "code",
   "execution_count": 354,
   "id": "7f667afa",
   "metadata": {},
   "outputs": [
    {
     "name": "stdout",
     "output_type": "stream",
     "text": [
      "[24, 35, 9, 56, 12]\n"
     ]
    }
   ],
   "source": [
    "def swaplist(newlist):\n",
    "    size=len(newlist)\n",
    "    print(size)\n",
    "    temp=newlist[0]\n",
    "    newlist[0]=newlist[size - 1]\n",
    "    newlist[size - 1] = temp\n",
    "    return newlist\n",
    "\n",
    "newList = [12, 35, 9, 56, 24]\n",
    " \n",
    "print(swapList(newList))   \n"
   ]
  },
  {
   "cell_type": "code",
   "execution_count": 363,
   "id": "ecef9a49",
   "metadata": {},
   "outputs": [
    {
     "name": "stdout",
     "output_type": "stream",
     "text": [
      "5\n",
      "12\n",
      "[24, 35, 9, 56, 12]\n"
     ]
    },
    {
     "data": {
      "text/plain": [
       "[24, 35, 9, 56, 12]"
      ]
     },
     "execution_count": 363,
     "metadata": {},
     "output_type": "execute_result"
    }
   ],
   "source": [
    "z_list = [12, 35, 9, 56, 24]\n",
    "def swaplist(z_list):\n",
    "    size=len(z_list)\n",
    "    print(size)\n",
    "    temp=z_list[0]\n",
    "    print(temp)\n",
    "    z_list[0]=z_list[size - 1]\n",
    "    z_list[size - 1] = temp\n",
    "    print(z_list)\n",
    "    return z_list\n",
    "swaplist(z_list)"
   ]
  },
  {
   "cell_type": "code",
   "execution_count": 401,
   "id": "fc166d25",
   "metadata": {},
   "outputs": [
    {
     "data": {
      "text/plain": [
       "[24, 35, 9, 56, 12]"
      ]
     },
     "execution_count": 401,
     "metadata": {},
     "output_type": "execute_result"
    }
   ],
   "source": [
    "a_list = [12, 35, 9, 56, 24]\n",
    "def swaplist(a_list):\n",
    "    size=len(a_list) #5\n",
    "    temp=a_list[0] #12\n",
    "    a_list[0]=a_list[size - 1]\n",
    "    a_list[size - 1]=temp\n",
    "    return a_list\n",
    "swaplist(a_list)"
   ]
  },
  {
   "cell_type": "code",
   "execution_count": 399,
   "id": "09b02140",
   "metadata": {},
   "outputs": [
    {
     "data": {
      "text/plain": [
       "56"
      ]
     },
     "execution_count": 399,
     "metadata": {},
     "output_type": "execute_result"
    }
   ],
   "source": [
    "z_list = [12, 35, 9, 56, 24]\n",
    "z_list[4-1]"
   ]
  },
  {
   "cell_type": "code",
   "execution_count": 410,
   "id": "73486db4",
   "metadata": {},
   "outputs": [
    {
     "data": {
      "text/plain": [
       "[24, 35, 9, 56, 12]"
      ]
     },
     "execution_count": 410,
     "metadata": {},
     "output_type": "execute_result"
    }
   ],
   "source": [
    "b_list = [12, 35, 9, 56, 24]\n",
    "def swaplist(b_list):\n",
    "    size=len(b_list)\n",
    "    temp=b_list[size-1]\n",
    "    b_list[size-1]=b_list[0]\n",
    "    b_list[0]=temp\n",
    "    return b_list\n",
    "    \n",
    "swaplist(b_list)    "
   ]
  },
  {
   "cell_type": "code",
   "execution_count": 411,
   "id": "52f7acff",
   "metadata": {},
   "outputs": [
    {
     "name": "stdout",
     "output_type": "stream",
     "text": [
      "4\n"
     ]
    }
   ],
   "source": [
    "# Python program to find the\n",
    "# maximum of two numbers\n",
    " \n",
    " \n",
    "a = 2\n",
    "b = 4\n",
    " \n",
    "maximum = max(a, b)\n",
    "print(maximum)"
   ]
  },
  {
   "cell_type": "code",
   "execution_count": 412,
   "id": "5de1e841",
   "metadata": {},
   "outputs": [
    {
     "name": "stdout",
     "output_type": "stream",
     "text": [
      "2\n"
     ]
    }
   ],
   "source": [
    "# Python program to find the\n",
    "# minimum of two numbers\n",
    "  \n",
    "  \n",
    "a = 2\n",
    "b = 4\n",
    "  \n",
    "minimum = min(a, b)\n",
    "print(minimum)\n"
   ]
  },
  {
   "cell_type": "code",
   "execution_count": 413,
   "id": "005692af",
   "metadata": {},
   "outputs": [
    {
     "name": "stdout",
     "output_type": "stream",
     "text": [
      "True\n"
     ]
    }
   ],
   "source": [
    "test_list = [1, 6, 3, 5, 3, 4]\n",
    "print(3 in test_list)"
   ]
  },
  {
   "cell_type": "code",
   "execution_count": null,
   "id": "5e9428ba",
   "metadata": {},
   "outputs": [],
   "source": []
  }
 ],
 "metadata": {
  "kernelspec": {
   "display_name": "Python 3 (ipykernel)",
   "language": "python",
   "name": "python3"
  },
  "language_info": {
   "codemirror_mode": {
    "name": "ipython",
    "version": 3
   },
   "file_extension": ".py",
   "mimetype": "text/x-python",
   "name": "python",
   "nbconvert_exporter": "python",
   "pygments_lexer": "ipython3",
   "version": "3.9.7"
  }
 },
 "nbformat": 4,
 "nbformat_minor": 5
}
