{
 "cells": [
  {
   "cell_type": "markdown",
   "id": "32452d0e",
   "metadata": {},
   "source": [
    "# Return statement"
   ]
  },
  {
   "cell_type": "code",
   "execution_count": 17,
   "id": "06105e3d",
   "metadata": {},
   "outputs": [],
   "source": [
    "def func_add(a,b):\n",
    "    return a+b             ##return always should be in the end statement "
   ]
  },
  {
   "cell_type": "code",
   "execution_count": 18,
   "id": "9bb6b7f2",
   "metadata": {},
   "outputs": [
    {
     "data": {
      "text/plain": [
       "7"
      ]
     },
     "execution_count": 18,
     "metadata": {},
     "output_type": "execute_result"
    }
   ],
   "source": [
    "func_add(3,4)"
   ]
  },
  {
   "cell_type": "code",
   "execution_count": 11,
   "id": "2417cfdf",
   "metadata": {},
   "outputs": [],
   "source": [
    "def func_add(a,b):\n",
    "    print('hello')\n",
    "    return a+b\n",
    "    "
   ]
  },
  {
   "cell_type": "code",
   "execution_count": 29,
   "id": "62ea2b09",
   "metadata": {},
   "outputs": [],
   "source": [
    "c=func_add(3,4)\n",
    "c"
   ]
  },
  {
   "cell_type": "code",
   "execution_count": 31,
   "id": "d1031225",
   "metadata": {},
   "outputs": [],
   "source": [
    "def func_cube(c):\n",
    "    \n",
    "    return c**3"
   ]
  },
  {
   "cell_type": "code",
   "execution_count": 32,
   "id": "bb496e74",
   "metadata": {},
   "outputs": [
    {
     "data": {
      "text/plain": [
       "343"
      ]
     },
     "execution_count": 32,
     "metadata": {},
     "output_type": "execute_result"
    }
   ],
   "source": [
    "func_cube(c)"
   ]
  },
  {
   "cell_type": "code",
   "execution_count": 49,
   "id": "e429def1",
   "metadata": {},
   "outputs": [],
   "source": [
    "def func_subt(a,b):\n",
    "    return (a-b)\n"
   ]
  },
  {
   "cell_type": "code",
   "execution_count": 50,
   "id": "92ff5cbc",
   "metadata": {},
   "outputs": [],
   "source": [
    "d=func_subt(18,12)\n"
   ]
  },
  {
   "cell_type": "code",
   "execution_count": 51,
   "id": "76044b37",
   "metadata": {},
   "outputs": [],
   "source": [
    "def func_cube(d):\n",
    "    \n",
    "    return(d**3)"
   ]
  },
  {
   "cell_type": "code",
   "execution_count": 52,
   "id": "7cfc5231",
   "metadata": {},
   "outputs": [
    {
     "data": {
      "text/plain": [
       "216"
      ]
     },
     "execution_count": 52,
     "metadata": {},
     "output_type": "execute_result"
    }
   ],
   "source": [
    "func_cube(d)"
   ]
  },
  {
   "cell_type": "code",
   "execution_count": 60,
   "id": "0ea64309",
   "metadata": {},
   "outputs": [
    {
     "name": "stdout",
     "output_type": "stream",
     "text": [
      "Enter the number31\n",
      "not div by 3\n"
     ]
    }
   ],
   "source": [
    "a=int(input('Enter the number'))\n",
    "func_input(a)\n",
    "def func_input(a):\n",
    "    if func_div(a) is True:\n",
    "        print('number is divisible by 3')\n",
    "    else:\n",
    "        print('not divisible by 3')\n",
    "\n",
    "\n",
    "\n",
    "def func_div(a):\n",
    "    if a%3==0:\n",
    "        return True\n",
    "    else:\n",
    "        False\n",
    "   "
   ]
  },
  {
   "cell_type": "code",
   "execution_count": 57,
   "id": "95c50545",
   "metadata": {},
   "outputs": [
    {
     "data": {
      "text/plain": [
       "34"
      ]
     },
     "execution_count": 57,
     "metadata": {},
     "output_type": "execute_result"
    }
   ],
   "source": [
    "a"
   ]
  },
  {
   "cell_type": "code",
   "execution_count": 8,
   "id": "2b241b41",
   "metadata": {},
   "outputs": [],
   "source": [
    "\n",
    "def func_c(c):\n",
    "    if func_len(c) is True:\n",
    "        print('Welcome')\n",
    "    else:\n",
    "        print('not Welcome')\n",
    "\n",
    "def func_len(c):\n",
    "    if len(c)==3:\n",
    "        return True\n",
    "    else:\n",
    "        False\n"
   ]
  },
  {
   "cell_type": "code",
   "execution_count": 9,
   "id": "cbbd7bd9",
   "metadata": {},
   "outputs": [
    {
     "name": "stdout",
     "output_type": "stream",
     "text": [
      "Enter the numbergoog\n",
      "not Welcome\n"
     ]
    }
   ],
   "source": [
    "c=input('Enter the number')\n",
    "func_c(c)"
   ]
  },
  {
   "cell_type": "code",
   "execution_count": 10,
   "id": "9bf852bb",
   "metadata": {},
   "outputs": [
    {
     "name": "stdout",
     "output_type": "stream",
     "text": [
      "6\n",
      "6\n"
     ]
    }
   ],
   "source": [
    "for x in range(7):\n",
    "    if x == 6:\n",
    "        print(x)\n",
    "print(x)"
   ]
  },
  {
   "cell_type": "code",
   "execution_count": null,
   "id": "ce0a4607",
   "metadata": {},
   "outputs": [
    {
     "name": "stdout",
     "output_type": "stream",
     "text": [
      "Enter the numbercheetah\n",
      "Ending the program\n",
      "Enter the numbercatter\n",
      "Ending the program\n"
     ]
    }
   ],
   "source": [
    "list1=[]\n",
    "\n",
    "for i in range(5):\n",
    "    def func_name(names):\n",
    "        if func_len1(names) is True:\n",
    "            print(list1)\n",
    "       \n",
    "        else:\n",
    "            print('Ending the program')\n",
    "            i=6\n",
    "        \n",
    "            \n",
    "\n",
    "\n",
    "    names=input('Enter the number')\n",
    "\n",
    "    func_name(names)\n",
    "    \n",
    "    \n",
    "    \n"
   ]
  },
  {
   "cell_type": "code",
   "execution_count": 23,
   "id": "0fcd790e",
   "metadata": {},
   "outputs": [],
   "source": [
    "def func_len1(names):\n",
    "        if len(names)==3:\n",
    "            list1.append(names)\n",
    "            return True\n",
    "        else:\n",
    "            False"
   ]
  },
  {
   "cell_type": "code",
   "execution_count": 20,
   "id": "47401e80",
   "metadata": {},
   "outputs": [
    {
     "name": "stdout",
     "output_type": "stream",
     "text": [
      "Enter the numbercat\n",
      "['cat']\n"
     ]
    }
   ],
   "source": [
    "names=input('Enter the number')\n",
    "\n",
    "func_name(names)"
   ]
  },
  {
   "cell_type": "code",
   "execution_count": 1,
   "id": "90477720",
   "metadata": {},
   "outputs": [],
   "source": [
    "# 1. Jack's dictionary\n",
    "jack = { \"name\":\"Jack Frost\",\n",
    "         \"assignment\" : [80, 50, 40, 20],\n",
    "         \"test\" : [75, 75],\n",
    "         \"lab\" : [78.20, 77.20]\n",
    "       }\n",
    "         \n",
    "# 2. James's dictionary\n",
    "james = { \"name\":\"James Potter\",\n",
    "          \"assignment\" : [82, 56, 44, 30],\n",
    "          \"test\" : [80, 80],\n",
    "          \"lab\" : [67.90, 78.72]\n",
    "        }\n",
    "  \n",
    "# 3. Dylan's dictionary\n",
    "dylan = { \"name\" : \"Dylan Rhodes\",\n",
    "          \"assignment\" : [77, 82, 23, 39],\n",
    "          \"test\" : [78, 77],\n",
    "          \"lab\" : [80, 80]\n",
    "        }\n",
    "          \n",
    "# 4. Jessica's dictionary\n",
    "jess = { \"name\" : \"Jessica Stone\",\n",
    "         \"assignment\" : [67, 55, 77, 21],\n",
    "         \"test\" : [40, 50],\n",
    "         \"lab\" : [69, 44.56]\n",
    "       }\n",
    "         \n",
    "# 5. Tom's dictionary\n",
    "tom = { \"name\" : \"Tom Hanks\",\n",
    "        \"assignment\" : [29, 89, 60, 56],\n",
    "        \"test\" : [65, 56],\n",
    "        \"lab\" : [50, 40.6]\n",
    "      }"
   ]
  },
  {
   "cell_type": "code",
   "execution_count": null,
   "id": "9f4fc344",
   "metadata": {},
   "outputs": [],
   "source": [
    "10 % of marks scored from submission of Assignments\n",
    "70 % of marks scored from Test\n",
    "20 % of marks scored in Lab-Works\n",
    " \n",
    "Grade will be calculated according to :\n",
    "\n",
    "1. score >= 90 : \"A\"\n",
    "2. score >= 80 : \"B\"\n",
    "3. score >= 70 : \"C\"\n",
    "4. score >= 60 : \"D\""
   ]
  },
  {
   "cell_type": "code",
   "execution_count": 5,
   "id": "c904426f",
   "metadata": {},
   "outputs": [],
   "source": [
    "def score(dictionary):\n",
    "    s_assignment=0.1*(sum(dictionary['assignment'])/400)\n",
    "    s_test=0.7*(sum(dictionary['test'])/200)\n",
    "    s_lab=0.3*(sum(dictionary['lab'])/300)\n",
    "    total_marks=s_assignment+s_test+s_lab\n",
    "    total_marks=total_marks*100\n",
    "    print('Average marks of {} is : {}'.format(dictionary['name'],total_marks))\n",
    "    if total_marks>=90:\n",
    "        print('Letter grade of {} is : {}'.format(dictionary['name'],'A'))\n",
    "    elif total_marks>=80:\n",
    "        print('Letter grade of {} is : {}'.format(dictionary['name'],'B'))\n",
    "    elif total_marks>=70:\n",
    "        print('Letter grade of {} is : {}'.format(dictionary['name'],'c'))\n",
    "    elif total_marks>=60:\n",
    "        print('Letter grade of {} is : {}'.format(dictionary['name'],'D'))\n",
    "    else:\n",
    "        print('Letter grade of {} is : {}'.format(dictionary['name'],'E'))\n",
    "        "
   ]
  },
  {
   "cell_type": "code",
   "execution_count": 6,
   "id": "dc2f1cf2",
   "metadata": {},
   "outputs": [
    {
     "name": "stdout",
     "output_type": "stream",
     "text": [
      "Average marks of Jack Frost is : 72.78999999999999\n",
      "Letter grade of Jack Frost is : c\n",
      "Average marks of James Potter is : 75.96199999999999\n",
      "Letter grade of James Potter is : c\n",
      "Average marks of Dylan Rhodes is : 75.775\n",
      "Letter grade of Dylan Rhodes is : c\n",
      "Average marks of Jessica Stone is : 48.356\n",
      "Letter grade of Jessica Stone is : E\n",
      "Average marks of Tom Hanks is : 57.26\n",
      "Letter grade of Tom Hanks is : E\n"
     ]
    }
   ],
   "source": [
    "for i in [jack,james,dylan,jess,tom]:\n",
    "    score(i)\n"
   ]
  },
  {
   "cell_type": "code",
   "execution_count": 2,
   "id": "204c059c",
   "metadata": {},
   "outputs": [
    {
     "name": "stdout",
     "output_type": "stream",
     "text": [
      "1nohtyp\n"
     ]
    }
   ],
   "source": [
    "ms='python1'\n",
    "for i in ms:\n",
    "    ms=ms[::-1]\n",
    "print(ms)"
   ]
  },
  {
   "cell_type": "code",
   "execution_count": 4,
   "id": "ecd9d38b",
   "metadata": {},
   "outputs": [
    {
     "name": "stdout",
     "output_type": "stream",
     "text": [
      "5\n",
      "nohtyp\n"
     ]
    }
   ],
   "source": [
    "mstr1=\"python\"\n",
    "newstr=\"\"\n",
    "i=len(mstr1)-1\n",
    "print(i)\n",
    "while (i>=0):\n",
    "    newstr=newstr+mstr1[i]\n",
    "    i=i-1\n",
    "print(newstr)"
   ]
  },
  {
   "cell_type": "code",
   "execution_count": 5,
   "id": "54b334a7",
   "metadata": {},
   "outputs": [
    {
     "name": "stdout",
     "output_type": "stream",
     "text": [
      "1\n",
      "2\n",
      "3\n",
      "4\n",
      "5\n",
      "i is no longer less than 6\n"
     ]
    }
   ],
   "source": [
    "i = 1\n",
    "while i < 6:\n",
    "  print(i)\n",
    "  i += 1\n",
    "else:\n",
    "  print(\"i is no longer less than 6\")"
   ]
  },
  {
   "cell_type": "code",
   "execution_count": null,
   "id": "dba5bae4",
   "metadata": {},
   "outputs": [],
   "source": []
  },
  {
   "cell_type": "code",
   "execution_count": null,
   "id": "9d4ecbe4",
   "metadata": {},
   "outputs": [],
   "source": []
  },
  {
   "cell_type": "code",
   "execution_count": null,
   "id": "8dcc3cf9",
   "metadata": {},
   "outputs": [],
   "source": []
  },
  {
   "cell_type": "code",
   "execution_count": null,
   "id": "67f90d83",
   "metadata": {},
   "outputs": [],
   "source": []
  },
  {
   "cell_type": "code",
   "execution_count": null,
   "id": "af38c851",
   "metadata": {},
   "outputs": [],
   "source": []
  },
  {
   "cell_type": "code",
   "execution_count": null,
   "id": "153a3f99",
   "metadata": {},
   "outputs": [],
   "source": []
  },
  {
   "cell_type": "code",
   "execution_count": null,
   "id": "2902c88b",
   "metadata": {},
   "outputs": [],
   "source": []
  }
 ],
 "metadata": {
  "kernelspec": {
   "display_name": "Python 3 (ipykernel)",
   "language": "python",
   "name": "python3"
  },
  "language_info": {
   "codemirror_mode": {
    "name": "ipython",
    "version": 3
   },
   "file_extension": ".py",
   "mimetype": "text/x-python",
   "name": "python",
   "nbconvert_exporter": "python",
   "pygments_lexer": "ipython3",
   "version": "3.9.7"
  }
 },
 "nbformat": 4,
 "nbformat_minor": 5
}
